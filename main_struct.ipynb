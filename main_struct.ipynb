{
 "cells": [
  {
   "cell_type": "code",
   "execution_count": 36,
   "id": "b526d383",
   "metadata": {},
   "outputs": [],
   "source": [
    "import sys\n",
    "import os\n",
    "import requests\n",
    "import shutil\n",
    "import imghdr\n",
    "from collect_links import CollectLinks\n",
    "from urllib.request import Request, urlopen"
   ]
  },
  {
   "cell_type": "code",
   "execution_count": 2,
   "id": "6cd231ca",
   "metadata": {},
   "outputs": [],
   "source": [
    "def find_file(root_dir, file_name) :\n",
    "    \n",
    "    for dir_path, dir_names, file_names in os.walk(root_dir) :\n",
    "        \n",
    "        for file_name in file_names :\n",
    "            print()\n",
    "\n",
    "# @staticmethod\n",
    "def make_dir(name) :\n",
    "    current_path = os.getcwd()\n",
    "    path = os.path.join(current_path, name)\n",
    "        \n",
    "    if not os.path.exists(path) :\n",
    "        os.makedirs(path)\n",
    "            \n",
    "# @staticmethod\n",
    "def make_and_read_topic() :\n",
    "    current_path = os.getcwd()\n",
    "    txt_path = os.path.join(current_path, 'topic.txt')\n",
    "    \n",
    "    if not os.path.exists(txt_path) :\n",
    "        \n",
    "        with open(txt_path, 'w', encoding = 'utf-8') as f :\n",
    "            f.write('hand, face')\n",
    "        \n",
    "    with open(txt_path, 'r', encoding = 'utf-8') as f :\n",
    "        topics = []\n",
    "\n",
    "        for topic in f.read().split(',') :\n",
    "            topics.append(topic.strip())\n",
    "    \n",
    "    return topics\n",
    "        \n",
    "    \n",
    "topics = make_and_read_topic()"
   ]
  },
  {
   "cell_type": "code",
   "execution_count": 9,
   "id": "89ce3c6c",
   "metadata": {},
   "outputs": [],
   "source": [
    "collect_links = CollectLinks\n",
    "browser_data, browser_keys = collect_links.read_json_browser()"
   ]
  },
  {
   "cell_type": "code",
   "execution_count": 52,
   "id": "b9225059",
   "metadata": {},
   "outputs": [],
   "source": [
    "def get_extension(link) :\n",
    "    sep = str(link).split('.')\n",
    "    ext = sep[-1].lower()\n",
    "    \n",
    "    if ext == 'jpg' or ext == 'jpeg' :\n",
    "        \n",
    "        return 'jpg'\n",
    "    \n",
    "    elif ext == 'png' :\n",
    "        \n",
    "        return 'png'\n",
    "    \n",
    "    elif ext == 'gif' :\n",
    "        \n",
    "        return 'gif'\n",
    "    \n",
    "    else :\n",
    "        \n",
    "        return 'jpg'\n",
    "    \n",
    "def save_files(response, file_path) :\n",
    "    \n",
    "    try :\n",
    "        \n",
    "        with open(f'{file_path}', 'wb') as f :\n",
    "            shutil.copyfileobj(response.raw, f)\n",
    "            \n",
    "    except Exception as e :\n",
    "        print(f'저장 실패  : {e}')"
   ]
  },
  {
   "cell_type": "code",
   "execution_count": 55,
   "id": "7c924f67",
   "metadata": {},
   "outputs": [
    {
     "name": "stdout",
     "output_type": "stream",
     "text": [
      "1, https://search.pstatic.net/sunny/?src=http%3A%2F%2Fimagescdn.gettyimagesbank.com%2F500%2F08%2F622%2F984%2F0%2F90150208.jpg&type=sc960_832\n",
      "2, https://search.pstatic.net/sunny/?src=https%3A%2F%2Fi.pinimg.com%2F736x%2Fc5%2F0a%2F7d%2Fc50a7dbb9993eb4af846b6708d430805.jpg&type=sc960_832\n",
      "3, https://search.pstatic.net/sunny/?src=https%3A%2F%2Fmedia.gettyimages.com%2Fphotos%2Fcropped-hand-gesturing-number-5-against-white-background-picture-id1053748716%3Fk%3D6%26m%3D1053748716%26s%3D612x612%26w%3D0%26h%3DmxuTx38KL-hIKi3956d9Z5lC-jJdp4OAzpEYdu8Ux6s%3D&type=sc960_832\n",
      "4, https://search.pstatic.net/sunny/?src=https%3A%2F%2Fyt3.googleusercontent.com%2Fgm86ZZCRjtBXBSY0iFXMxGzNZZzRQ7_loD7NZ_OkY1-yqkJVwwLQ_F83RFb0oi-Sq6aJm0t1-A%3Ds900-c-k-c0x00ffffff-no-rj&type=sc960_832\n",
      "5, https://search.pstatic.net/sunny/?src=https%3A%2F%2Fi.pinimg.com%2F736x%2F63%2Fc0%2Ff0%2F63c0f0ab5683129b4d133e288dee3604.jpg&type=sc960_832\n",
      "====================================================================================================\n",
      "Naver 크롤링 완료\n",
      "Browser : Naver, Topic : hand, 이미지 수 : 5개\n",
      "====================================================================================================\n",
      "naver 로부터 다운로드 중\n",
      "1 / 5 : https://search.pstatic.net/sunny/?src=http%3A%2F%2Fimagescdn.gettyimagesbank.com%2F500%2F08%2F622%2F984%2F0%2F90150208.jpg&type=sc960_832\n",
      "2 / 5 : https://search.pstatic.net/sunny/?src=https%3A%2F%2Fi.pinimg.com%2F736x%2Fc5%2F0a%2F7d%2Fc50a7dbb9993eb4af846b6708d430805.jpg&type=sc960_832\n",
      "3 / 5 : https://search.pstatic.net/sunny/?src=https%3A%2F%2Fmedia.gettyimages.com%2Fphotos%2Fcropped-hand-gesturing-number-5-against-white-background-picture-id1053748716%3Fk%3D6%26m%3D1053748716%26s%3D612x612%26w%3D0%26h%3DmxuTx38KL-hIKi3956d9Z5lC-jJdp4OAzpEYdu8Ux6s%3D&type=sc960_832\n",
      "4 / 5 : https://search.pstatic.net/sunny/?src=https%3A%2F%2Fyt3.googleusercontent.com%2Fgm86ZZCRjtBXBSY0iFXMxGzNZZzRQ7_loD7NZ_OkY1-yqkJVwwLQ_F83RFb0oi-Sq6aJm0t1-A%3Ds900-c-k-c0x00ffffff-no-rj&type=sc960_832\n",
      "5 / 5 : https://search.pstatic.net/sunny/?src=https%3A%2F%2Fi.pinimg.com%2F736x%2F63%2Fc0%2Ff0%2F63c0f0ab5683129b4d133e288dee3604.jpg&type=sc960_832\n"
     ]
    }
   ],
   "source": [
    "download_path = 'download'\n",
    "browser = 'naver'\n",
    "topic = 'hand'\n",
    "limit = 5\n",
    "\n",
    "def download_imgs(browser, topic, links, max_cnt = 0) :\n",
    "    make_dir(f'{download_path}/{topic}')\n",
    "    total = len(links)\n",
    "    success_cnt = 0\n",
    "    \n",
    "    if max_cnt == 0 :\n",
    "        max_cnt = total\n",
    "        \n",
    "    print(f'{browser} 로부터 다운로드 중')\n",
    "    \n",
    "    for idx, link in enumerate(links) :\n",
    "        \n",
    "        if success_cnt >= max_cnt :\n",
    "            break\n",
    "            \n",
    "        try :\n",
    "            \n",
    "            print(f'{success_cnt + 1} / {total} : {link}')\n",
    "            \n",
    "            response = requests.get(link, stream = True, timeout = 10)\n",
    "            ext = get_extension(link)\n",
    "            \n",
    "            link_path = f'{download_path}/{topic}/{browser}_{str(idx).zfill(4)}'\n",
    "            link_ext_path = f'{link_path}.{ext}'\n",
    "            \n",
    "            save_files(response, link_ext_path)\n",
    "            \n",
    "            success_cnt += 1\n",
    "            \n",
    "            del response\n",
    "        \n",
    "        except Exception as e :\n",
    "            print(f'다운로드 실패 : {e}')\n",
    "            \n",
    "            \n",
    "\n",
    "download = download_imgs(browser =  browser, topic = topic, links = collect_links().img_links(browser = browser, topic = topic, limit = limit))"
   ]
  },
  {
   "cell_type": "code",
   "execution_count": 15,
   "id": "c7312aae",
   "metadata": {},
   "outputs": [
    {
     "name": "stdout",
     "output_type": "stream",
     "text": [
      "\n",
      "====================================================================================================\n",
      "정상 작동\n",
      "현재 Chrome 브라우저 버전: 130.0.6723.92\n",
      "현재 ChromeDriver 버전: 130.0.6723.91\n",
      "현재 경로에 파일 존재\n",
      "====================================================================================================\n",
      "1, https://encrypted-tbn0.gstatic.com/images?q=tbn:ANd9GcTjkjli6LJfMxp3yH8ro5CBgS8mGpNUmEGT1g&s\n",
      "2, https://as1.ftcdn.net/v2/jpg/01/77/61/78/1000_F_177617867_mORWdpxDgc88yfNFzKIoh5pNKYu9hhqK.jpg\n",
      "3, https://c8.alamy.com/comp/S14F4Y/an-abstract-image-of-a-womans-face-on-the-palm-of-a-hand-S14F4Y.jpg\n",
      "4, https://encrypted-tbn0.gstatic.com/images?q=tbn:ANd9GcScBN14AV83mTMtvBC_KZtZ4SkDYVMclv4_eg&s\n",
      "5, https://www.shutterstock.com/shutterstock/photos/272682341/display_1500/stock-photo-many-hands-touching-women-s-face-272682341.jpg\n",
      "6, https://media.istockphoto.com/id/1354246779/photo/shot-of-a-young-woman-posing-with-her-hands-over-her-face.jpg?s=612x612&w=0&k=20&c=idQfyTAXVeccjJdEmQOMwv5TAX31hdQc41BkEBrlwDU=\n",
      "7, https://as2.ftcdn.net/v2/jpg/02/71/27/61/1000_F_271276148_33J2zJoLNdrHF0QdAzkpoNKRUjl4vvNp.jpg\n",
      "8, https://www.shutterstock.com/image-photo/emoji-face-made-hand-shows-600w-1476012437.jpg\n",
      "9, https://encrypted-tbn0.gstatic.com/images?q=tbn:ANd9GcSfRQbq45VOuRfz85zLP1D9qOEbihb9pQsHmg&s\n",
      "10, https://img.freepik.com/premium-photo/portrait-young-woman-covering-her-face-with-hands_488220-15855.jpg\n",
      "====================================================================================================\n",
      "Google 크롤링 완료\n",
      "Browser : Google, Topic : hand face, 이미지 수 : 10개\n",
      "====================================================================================================\n",
      "\n",
      "1, https://search.pstatic.net/sunny/?src=https%3A%2F%2Fwww.harrods.com%2FBWStaticContent%2F50000%2F9f50ca06-8a58-4167-8e09-3902de408917_white-dial-yellow-gold-52164-y-36.jpg&type=sc960_832\n",
      "2, https://search.pstatic.net/sunny/?src=https%3A%2F%2Fwww.harrods.com%2FBWStaticContent%2F50000%2Fdc388be5-aace-44dc-86f6-3a7ce67d005c_chocolate-dial-oystersteel-and-everose-gold-50672-g-28.jpg&type=sc960_832\n",
      "3, https://search.pstatic.net/sunny/?src=https%3A%2F%2Fthumbs.dreamstime.com%2Fb%2Fcontact-lenses-box-womans-hand-isolated-white-30691033.jpg&type=sc960_832\n",
      "4, https://search.pstatic.net/sunny/?src=https%3A%2F%2Fi.pinimg.com%2F736x%2Fe1%2F3a%2Fb5%2Fe13ab578cff09356cdee4a48c7db7c53.jpg&type=sc960_832\n",
      "5, https://search.pstatic.net/sunny/?src=https%3A%2F%2Fi.pinimg.com%2Foriginals%2Fc3%2Fbf%2F78%2Fc3bf78863662af8ce56e565b4ff2ca53.jpg&type=sc960_832\n",
      "6, https://search.pstatic.net/sunny/?src=https%3A%2F%2Fthumbs.dreamstime.com%2Fz%2Fhand-holding-pack-antibiotic-capsule-pills-isolated-white-background-giving-receiving-drug-overuse-antimicrobial-152360790.jpg&type=sc960_832\n",
      "7, https://search.pstatic.net/sunny/?src=https%3A%2F%2Fi.pinimg.com%2F736x%2F1c%2F8e%2F70%2F1c8e7056e12a6c4752d87db63f5e0e7f.jpg&type=sc960_832\n",
      "8, https://search.pstatic.net/sunny/?src=https%3A%2F%2Fthumbs.dreamstime.com%2Fz%2Fpensive-9953785.jpg&type=sc960_832\n",
      "9, https://search.pstatic.net/sunny/?src=https%3A%2F%2Fthumbs.dreamstime.com%2Fb%2Fwoman-holding-index-finger-front-25145623.jpg&type=sc960_832\n",
      "10, https://search.pstatic.net/sunny/?src=https%3A%2F%2Fthumbs.dreamstime.com%2Fz%2Fcharming-old-woman-holding-hand-under-chin-beaming-smile-lo-charming-old-woman-holding-hand-under-chin-beaming-smile-109771365.jpg&type=sc960_832\n",
      "====================================================================================================\n",
      "Naver 크롤링 완료\n",
      "Browser : Naver, Topic : hand face, 이미지 수 : 10개\n",
      "====================================================================================================\n",
      "[[0, ['https://encrypted-tbn0.gstatic.com/images?q=tbn:ANd9GcTjkjli6LJfMxp3yH8ro5CBgS8mGpNUmEGT1g&s', 'https://as1.ftcdn.net/v2/jpg/01/77/61/78/1000_F_177617867_mORWdpxDgc88yfNFzKIoh5pNKYu9hhqK.jpg', 'https://c8.alamy.com/comp/S14F4Y/an-abstract-image-of-a-womans-face-on-the-palm-of-a-hand-S14F4Y.jpg', 'https://encrypted-tbn0.gstatic.com/images?q=tbn:ANd9GcScBN14AV83mTMtvBC_KZtZ4SkDYVMclv4_eg&s', 'https://www.shutterstock.com/shutterstock/photos/272682341/display_1500/stock-photo-many-hands-touching-women-s-face-272682341.jpg', 'https://media.istockphoto.com/id/1354246779/photo/shot-of-a-young-woman-posing-with-her-hands-over-her-face.jpg?s=612x612&w=0&k=20&c=idQfyTAXVeccjJdEmQOMwv5TAX31hdQc41BkEBrlwDU=', 'https://as2.ftcdn.net/v2/jpg/02/71/27/61/1000_F_271276148_33J2zJoLNdrHF0QdAzkpoNKRUjl4vvNp.jpg', 'https://www.shutterstock.com/image-photo/emoji-face-made-hand-shows-600w-1476012437.jpg', 'https://encrypted-tbn0.gstatic.com/images?q=tbn:ANd9GcSfRQbq45VOuRfz85zLP1D9qOEbihb9pQsHmg&s', 'https://img.freepik.com/premium-photo/portrait-young-woman-covering-her-face-with-hands_488220-15855.jpg']], [0, ['https://search.pstatic.net/sunny/?src=https%3A%2F%2Fwww.harrods.com%2FBWStaticContent%2F50000%2F9f50ca06-8a58-4167-8e09-3902de408917_white-dial-yellow-gold-52164-y-36.jpg&type=sc960_832', 'https://search.pstatic.net/sunny/?src=https%3A%2F%2Fwww.harrods.com%2FBWStaticContent%2F50000%2Fdc388be5-aace-44dc-86f6-3a7ce67d005c_chocolate-dial-oystersteel-and-everose-gold-50672-g-28.jpg&type=sc960_832', 'https://search.pstatic.net/sunny/?src=https%3A%2F%2Fthumbs.dreamstime.com%2Fb%2Fcontact-lenses-box-womans-hand-isolated-white-30691033.jpg&type=sc960_832', 'https://search.pstatic.net/sunny/?src=https%3A%2F%2Fi.pinimg.com%2F736x%2Fe1%2F3a%2Fb5%2Fe13ab578cff09356cdee4a48c7db7c53.jpg&type=sc960_832', 'https://search.pstatic.net/sunny/?src=https%3A%2F%2Fi.pinimg.com%2Foriginals%2Fc3%2Fbf%2F78%2Fc3bf78863662af8ce56e565b4ff2ca53.jpg&type=sc960_832', 'https://search.pstatic.net/sunny/?src=https%3A%2F%2Fthumbs.dreamstime.com%2Fz%2Fhand-holding-pack-antibiotic-capsule-pills-isolated-white-background-giving-receiving-drug-overuse-antimicrobial-152360790.jpg&type=sc960_832', 'https://search.pstatic.net/sunny/?src=https%3A%2F%2Fi.pinimg.com%2F736x%2F1c%2F8e%2F70%2F1c8e7056e12a6c4752d87db63f5e0e7f.jpg&type=sc960_832', 'https://search.pstatic.net/sunny/?src=https%3A%2F%2Fthumbs.dreamstime.com%2Fz%2Fpensive-9953785.jpg&type=sc960_832', 'https://search.pstatic.net/sunny/?src=https%3A%2F%2Fthumbs.dreamstime.com%2Fb%2Fwoman-holding-index-finger-front-25145623.jpg&type=sc960_832', 'https://search.pstatic.net/sunny/?src=https%3A%2F%2Fthumbs.dreamstime.com%2Fz%2Fcharming-old-woman-holding-hand-under-chin-beaming-smile-lo-charming-old-woman-holding-hand-under-chin-beaming-smile-109771365.jpg&type=sc960_832']]]\n"
     ]
    }
   ],
   "source": [
    "def execute_crawling() :\n",
    "    img_data = []\n",
    "    limit = 10\n",
    "    \n",
    "    for browser in browser_keys :\n",
    "        \n",
    "        if browser == 'google' :\n",
    "            print()\n",
    "            \n",
    "        elif browser == 'naver' :\n",
    "            print()\n",
    "            \n",
    "        for idx, topic in enumerate(topics) :\n",
    "            links = collect_links().img_links(browser = browser, topic = topic, limit = limit)\n",
    "            img_data.append([idx, links])\n",
    "\n",
    "    return img_data\n",
    "    \n",
    "img_data = execute_crawling()\n",
    "print(img_data)"
   ]
  },
  {
   "cell_type": "code",
   "execution_count": 5,
   "id": "751d58fc",
   "metadata": {},
   "outputs": [
    {
     "name": "stdout",
     "output_type": "stream",
     "text": [
      "사용 할 수 있는 브라우저 ['google', 'naver']\n",
      "----------------------------------------------------------------------------------------------------\n",
      "False\n"
     ]
    }
   ],
   "source": [
    "collect_links = CollectLinks\n",
    "browser_data, keys = collect_links.read_json_browser()\n",
    "\n",
    "print(['google', 'naver'] in keys)"
   ]
  },
  {
   "cell_type": "code",
   "execution_count": 7,
   "id": "24954450",
   "metadata": {},
   "outputs": [
    {
     "name": "stderr",
     "output_type": "stream",
     "text": [
      "WARNING:urllib3.connectionpool:Retrying (Retry(total=2, connect=None, read=None, redirect=None, status=None)) after connection broken by 'NewConnectionError('<urllib3.connection.HTTPConnection object at 0x0000028F06AB12E0>: Failed to establish a new connection: [WinError 10061] 대상 컴퓨터에서 연결을 거부했으므로 연결하지 못했습니다')': /session/a5f031b32df89f4993cc496a72adb0dc\n",
      "WARNING:urllib3.connectionpool:Retrying (Retry(total=1, connect=None, read=None, redirect=None, status=None)) after connection broken by 'NewConnectionError('<urllib3.connection.HTTPConnection object at 0x0000028F07E9C4F0>: Failed to establish a new connection: [WinError 10061] 대상 컴퓨터에서 연결을 거부했으므로 연결하지 못했습니다')': /session/a5f031b32df89f4993cc496a72adb0dc\n",
      "WARNING:urllib3.connectionpool:Retrying (Retry(total=0, connect=None, read=None, redirect=None, status=None)) after connection broken by 'NewConnectionError('<urllib3.connection.HTTPConnection object at 0x0000028F07BFB490>: Failed to establish a new connection: [WinError 10061] 대상 컴퓨터에서 연결을 거부했으므로 연결하지 못했습니다')': /session/a5f031b32df89f4993cc496a72adb0dc\n"
     ]
    }
   ],
   "source": [
    "collect_links.driver.quit()"
   ]
  }
 ],
 "metadata": {
  "kernelspec": {
   "display_name": "Project_python3.9",
   "language": "python",
   "name": "project"
  },
  "language_info": {
   "codemirror_mode": {
    "name": "ipython",
    "version": 3
   },
   "file_extension": ".py",
   "mimetype": "text/x-python",
   "name": "python",
   "nbconvert_exporter": "python",
   "pygments_lexer": "ipython3",
   "version": "3.9.20"
  }
 },
 "nbformat": 4,
 "nbformat_minor": 5
}
