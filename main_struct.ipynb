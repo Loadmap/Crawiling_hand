{
 "cells": [
  {
   "cell_type": "code",
   "execution_count": 1,
   "id": "b526d383",
   "metadata": {},
   "outputs": [],
   "source": [
    "import sys\n",
    "import os\n",
    "from collect_links import CollectLinks\n",
    "from urllib.request import Request, urlopen"
   ]
  },
  {
   "cell_type": "code",
   "execution_count": 2,
   "id": "6cd231ca",
   "metadata": {},
   "outputs": [],
   "source": [
    "def find_file(root_dir, file_name) :\n",
    "    \n",
    "    for dir_path, dir_names, file_names in os.walk(root_dir) :\n",
    "        \n",
    "        for file_name in file_names :\n",
    "            print()\n",
    "\n",
    "# @staticmethod\n",
    "def make_dir(name) :\n",
    "    current_path = os.getcwd()\n",
    "    path = os.path.join(current_path, name)\n",
    "        \n",
    "    if not os.path.exists(path) :\n",
    "        os.makedirs(path)\n",
    "            \n",
    "# @staticmethod\n",
    "def make_and_read_topic() :\n",
    "    current_path = os.getcwd()\n",
    "    txt_path = os.path.join(current_path, 'topic.txt')\n",
    "    \n",
    "    if not os.path.exists(txt_path) :\n",
    "        \n",
    "        with open(txt_path, 'w', encoding = 'utf-8') as f :\n",
    "            f.write('hand, face')\n",
    "        \n",
    "    with open(txt_path, 'r', encoding = 'utf-8') as f :\n",
    "        topics = []\n",
    "\n",
    "        for topic in f.read().split(',') :\n",
    "            topics.append(topic.strip())\n",
    "    \n",
    "    return topics\n",
    "        \n",
    "    \n",
    "topics = make_and_read_topic()"
   ]
  },
  {
   "cell_type": "code",
   "execution_count": 3,
   "id": "89ce3c6c",
   "metadata": {},
   "outputs": [
    {
     "name": "stdout",
     "output_type": "stream",
     "text": [
      "사용 할 수 있는 브라우저 ['google', 'naver']\n",
      "----------------------------------------------------------------------------------------------------\n"
     ]
    }
   ],
   "source": [
    "collect_links = CollectLinks\n",
    "browser_data, keys = collect_links.read_json_browser()"
   ]
  },
  {
   "cell_type": "code",
   "execution_count": 6,
   "id": "c7312aae",
   "metadata": {},
   "outputs": [
    {
     "name": "stdout",
     "output_type": "stream",
     "text": [
      "사용 할 수 있는 브라우저 ['google', 'naver']\n",
      "----------------------------------------------------------------------------------------------------\n",
      "1, https://encrypted-tbn0.gstatic.com/images?q=tbn:ANd9GcTjkjli6LJfMxp3yH8ro5CBgS8mGpNUmEGT1g&s\n",
      "2, https://as1.ftcdn.net/v2/jpg/01/77/61/78/1000_F_177617867_mORWdpxDgc88yfNFzKIoh5pNKYu9hhqK.jpg\n",
      "3, https://c8.alamy.com/comp/S14F4Y/an-abstract-image-of-a-womans-face-on-the-palm-of-a-hand-S14F4Y.jpg\n",
      "4, https://encrypted-tbn0.gstatic.com/images?q=tbn:ANd9GcScBN14AV83mTMtvBC_KZtZ4SkDYVMclv4_eg&s\n",
      "5, https://as2.ftcdn.net/v2/jpg/02/71/27/61/1000_F_271276148_33J2zJoLNdrHF0QdAzkpoNKRUjl4vvNp.jpg\n",
      "6, https://www.shutterstock.com/image-photo/emoji-face-made-hand-shows-600w-1476012437.jpg\n",
      "7, https://media.istockphoto.com/id/1354246779/photo/shot-of-a-young-woman-posing-with-her-hands-over-her-face.jpg?s=612x612&w=0&k=20&c=idQfyTAXVeccjJdEmQOMwv5TAX31hdQc41BkEBrlwDU=\n",
      "8, https://encrypted-tbn0.gstatic.com/images?q=tbn:ANd9GcRWca61zEcGnqiAvSrSLKBLtSE0KPN5uIxt0g&s\n",
      "9, https://encrypted-tbn0.gstatic.com/images?q=tbn:ANd9GcSfRQbq45VOuRfz85zLP1D9qOEbihb9pQsHmg&s\n",
      "10, https://encrypted-tbn0.gstatic.com/images?q=tbn:ANd9GcTUiiu50TjAvTJr1UlSxZXEFnxAhjKzBM5WnQ&s\n",
      "====================================================================================================\n",
      "Google 크롤링 완료\n",
      "Browser : Google, Topic : hand face, 이미지 수 : 10개\n",
      "====================================================================================================\n",
      "사용 할 수 있는 브라우저 ['google', 'naver']\n",
      "----------------------------------------------------------------------------------------------------\n",
      "1, https://search.pstatic.net/sunny/?src=https%3A%2F%2Fwww.harrods.com%2FBWStaticContent%2F50000%2F9f50ca06-8a58-4167-8e09-3902de408917_white-dial-yellow-gold-52164-y-36.jpg&type=sc960_832\n",
      "2, https://search.pstatic.net/sunny/?src=https%3A%2F%2Fwww.harrods.com%2FBWStaticContent%2F50000%2Fdc388be5-aace-44dc-86f6-3a7ce67d005c_chocolate-dial-oystersteel-and-everose-gold-50672-g-28.jpg&type=sc960_832\n",
      "3, https://search.pstatic.net/sunny/?src=https%3A%2F%2Fi.pinimg.com%2F736x%2Fe1%2F3a%2Fb5%2Fe13ab578cff09356cdee4a48c7db7c53.jpg&type=sc960_832\n",
      "4, https://search.pstatic.net/sunny/?src=https%3A%2F%2Fthumbs.dreamstime.com%2Fb%2Fwoman-17604911.jpg&type=sc960_832\n",
      "5, https://search.pstatic.net/sunny/?src=https%3A%2F%2Fi.pinimg.com%2Foriginals%2Fc3%2Fbf%2F78%2Fc3bf78863662af8ce56e565b4ff2ca53.jpg&type=sc960_832\n",
      "----------------------------------------------------------------------------------------------------\n",
      "5번째 https://search.pstatic.net/sunny/?src=https%3A%2F%2Fi.pinimg.com%2Foriginals%2Fc3%2Fbf%2F78%2Fc3bf78863662af8ce56e565b4ff2ca53.jpg&type=sc960_832에서 <class 'selenium.common.exceptions.StaleElementReferenceException'> 발생\n",
      "----------------------------------------------------------------------------------------------------\n",
      "6, https://search.pstatic.net/sunny/?src=https%3A%2F%2Fthumbs.dreamstime.com%2Fz%2Fhand-holding-pack-antibiotic-capsule-pills-isolated-white-background-giving-receiving-drug-overuse-antimicrobial-152360790.jpg&type=sc960_832\n",
      "7, https://search.pstatic.net/sunny/?src=https%3A%2F%2Fi.pinimg.com%2F736x%2F1c%2F8e%2F70%2F1c8e7056e12a6c4752d87db63f5e0e7f.jpg&type=sc960_832\n",
      "8, https://search.pstatic.net/sunny/?src=https%3A%2F%2Fthumbs.dreamstime.com%2Fz%2Fpensive-9953785.jpg&type=sc960_832\n",
      "9, https://search.pstatic.net/sunny/?src=https%3A%2F%2Fthumbs.dreamstime.com%2Fb%2Fwoman-holding-index-finger-front-25145623.jpg&type=sc960_832\n",
      "10, https://search.pstatic.net/sunny/?src=https%3A%2F%2Fthumbs.dreamstime.com%2Fz%2Fcharming-old-woman-holding-hand-under-chin-beaming-smile-lo-charming-old-woman-holding-hand-under-chin-beaming-smile-109771365.jpg&type=sc960_832\n",
      "====================================================================================================\n",
      "Naver 크롤링 완료\n",
      "Browser : Naver, Topic : hand face, 이미지 수 : 10개\n",
      "====================================================================================================\n",
      "[[0, ['https://encrypted-tbn0.gstatic.com/images?q=tbn:ANd9GcTjkjli6LJfMxp3yH8ro5CBgS8mGpNUmEGT1g&s', 'https://as1.ftcdn.net/v2/jpg/01/77/61/78/1000_F_177617867_mORWdpxDgc88yfNFzKIoh5pNKYu9hhqK.jpg', 'https://c8.alamy.com/comp/S14F4Y/an-abstract-image-of-a-womans-face-on-the-palm-of-a-hand-S14F4Y.jpg', 'https://encrypted-tbn0.gstatic.com/images?q=tbn:ANd9GcScBN14AV83mTMtvBC_KZtZ4SkDYVMclv4_eg&s', 'https://as2.ftcdn.net/v2/jpg/02/71/27/61/1000_F_271276148_33J2zJoLNdrHF0QdAzkpoNKRUjl4vvNp.jpg', 'https://www.shutterstock.com/image-photo/emoji-face-made-hand-shows-600w-1476012437.jpg', 'https://media.istockphoto.com/id/1354246779/photo/shot-of-a-young-woman-posing-with-her-hands-over-her-face.jpg?s=612x612&w=0&k=20&c=idQfyTAXVeccjJdEmQOMwv5TAX31hdQc41BkEBrlwDU=', 'https://encrypted-tbn0.gstatic.com/images?q=tbn:ANd9GcRWca61zEcGnqiAvSrSLKBLtSE0KPN5uIxt0g&s', 'https://encrypted-tbn0.gstatic.com/images?q=tbn:ANd9GcSfRQbq45VOuRfz85zLP1D9qOEbihb9pQsHmg&s', 'https://encrypted-tbn0.gstatic.com/images?q=tbn:ANd9GcTUiiu50TjAvTJr1UlSxZXEFnxAhjKzBM5WnQ&s']], [1, ['https://search.pstatic.net/sunny/?src=https%3A%2F%2Fwww.harrods.com%2FBWStaticContent%2F50000%2F9f50ca06-8a58-4167-8e09-3902de408917_white-dial-yellow-gold-52164-y-36.jpg&type=sc960_832', 'https://search.pstatic.net/sunny/?src=https%3A%2F%2Fwww.harrods.com%2FBWStaticContent%2F50000%2Fdc388be5-aace-44dc-86f6-3a7ce67d005c_chocolate-dial-oystersteel-and-everose-gold-50672-g-28.jpg&type=sc960_832', 'https://search.pstatic.net/sunny/?src=https%3A%2F%2Fi.pinimg.com%2F736x%2Fe1%2F3a%2Fb5%2Fe13ab578cff09356cdee4a48c7db7c53.jpg&type=sc960_832', 'https://search.pstatic.net/sunny/?src=https%3A%2F%2Fthumbs.dreamstime.com%2Fb%2Fwoman-17604911.jpg&type=sc960_832', 'https://search.pstatic.net/sunny/?src=https%3A%2F%2Fi.pinimg.com%2Foriginals%2Fc3%2Fbf%2F78%2Fc3bf78863662af8ce56e565b4ff2ca53.jpg&type=sc960_832', 'https://search.pstatic.net/sunny/?src=https%3A%2F%2Fthumbs.dreamstime.com%2Fz%2Fhand-holding-pack-antibiotic-capsule-pills-isolated-white-background-giving-receiving-drug-overuse-antimicrobial-152360790.jpg&type=sc960_832', 'https://search.pstatic.net/sunny/?src=https%3A%2F%2Fi.pinimg.com%2F736x%2F1c%2F8e%2F70%2F1c8e7056e12a6c4752d87db63f5e0e7f.jpg&type=sc960_832', 'https://search.pstatic.net/sunny/?src=https%3A%2F%2Fthumbs.dreamstime.com%2Fz%2Fpensive-9953785.jpg&type=sc960_832', 'https://search.pstatic.net/sunny/?src=https%3A%2F%2Fthumbs.dreamstime.com%2Fb%2Fwoman-holding-index-finger-front-25145623.jpg&type=sc960_832', 'https://search.pstatic.net/sunny/?src=https%3A%2F%2Fthumbs.dreamstime.com%2Fz%2Fcharming-old-woman-holding-hand-under-chin-beaming-smile-lo-charming-old-woman-holding-hand-under-chin-beaming-smile-109771365.jpg&type=sc960_832']]]\n"
     ]
    }
   ],
   "source": [
    "def excute_crawling() :\n",
    "    img_data = []\n",
    "    limit = 10\n",
    "    for num, browser in enumerate(keys) :\n",
    "        \n",
    "#         if save_path == '' :\n",
    "#             folder_path = os.path.join(os.getcwd(), browser)\n",
    "            \n",
    "#         else :\n",
    "#             folder_path = os.path.join(save_path, browser)\n",
    "        \n",
    "#         if not os.path.exists(folder_path) :\n",
    "#             os.makedirs(folder_path)\n",
    "        \n",
    "        for topic in topics :\n",
    "            links = collect_links().img_links(browser = browser, topic = topic, limit = limit)\n",
    "            img_data.append([num, links])\n",
    "\n",
    "    return img_data\n",
    "    \n",
    "img_data = excute_crawling()\n",
    "print(img_data)"
   ]
  },
  {
   "cell_type": "code",
   "execution_count": 5,
   "id": "751d58fc",
   "metadata": {},
   "outputs": [
    {
     "name": "stdout",
     "output_type": "stream",
     "text": [
      "사용 할 수 있는 브라우저 ['google', 'naver']\n",
      "----------------------------------------------------------------------------------------------------\n",
      "False\n"
     ]
    }
   ],
   "source": [
    "collect_links = CollectLinks\n",
    "browser_data, keys = collect_links.read_json_browser()\n",
    "\n",
    "print(['google', 'naver'] in keys)"
   ]
  },
  {
   "cell_type": "code",
   "execution_count": 7,
   "id": "24954450",
   "metadata": {},
   "outputs": [
    {
     "name": "stderr",
     "output_type": "stream",
     "text": [
      "WARNING:urllib3.connectionpool:Retrying (Retry(total=2, connect=None, read=None, redirect=None, status=None)) after connection broken by 'NewConnectionError('<urllib3.connection.HTTPConnection object at 0x0000028F06AB12E0>: Failed to establish a new connection: [WinError 10061] 대상 컴퓨터에서 연결을 거부했으므로 연결하지 못했습니다')': /session/a5f031b32df89f4993cc496a72adb0dc\n",
      "WARNING:urllib3.connectionpool:Retrying (Retry(total=1, connect=None, read=None, redirect=None, status=None)) after connection broken by 'NewConnectionError('<urllib3.connection.HTTPConnection object at 0x0000028F07E9C4F0>: Failed to establish a new connection: [WinError 10061] 대상 컴퓨터에서 연결을 거부했으므로 연결하지 못했습니다')': /session/a5f031b32df89f4993cc496a72adb0dc\n",
      "WARNING:urllib3.connectionpool:Retrying (Retry(total=0, connect=None, read=None, redirect=None, status=None)) after connection broken by 'NewConnectionError('<urllib3.connection.HTTPConnection object at 0x0000028F07BFB490>: Failed to establish a new connection: [WinError 10061] 대상 컴퓨터에서 연결을 거부했으므로 연결하지 못했습니다')': /session/a5f031b32df89f4993cc496a72adb0dc\n"
     ]
    }
   ],
   "source": [
    "collect_links.driver.quit()"
   ]
  }
 ],
 "metadata": {
  "kernelspec": {
   "display_name": "Project_python3.9",
   "language": "python",
   "name": "project"
  },
  "language_info": {
   "codemirror_mode": {
    "name": "ipython",
    "version": 3
   },
   "file_extension": ".py",
   "mimetype": "text/x-python",
   "name": "python",
   "nbconvert_exporter": "python",
   "pygments_lexer": "ipython3",
   "version": "3.9.20"
  }
 },
 "nbformat": 4,
 "nbformat_minor": 5
}
