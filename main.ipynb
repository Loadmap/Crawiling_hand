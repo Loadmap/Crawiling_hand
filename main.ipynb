{
 "cells": [
  {
   "cell_type": "code",
   "execution_count": 1,
   "id": "b526d383",
   "metadata": {},
   "outputs": [],
   "source": [
    "import os\n",
    "from collect_links import CollectLinks\n",
    "from urllib.request import Request, urlopen"
   ]
  },
  {
   "cell_type": "code",
   "execution_count": 3,
   "id": "8e9f35d3",
   "metadata": {},
   "outputs": [
    {
     "name": "stdout",
     "output_type": "stream",
     "text": [
      "====================================================================================================\n",
      "정상 작동\n",
      "현재 Chrome 브라우저 버전: 130.0.6723.70\n",
      "현재 ChromeDriver 버전: 130.0.6723.69\n",
      "현재 경로에 파일 존재\n",
      "====================================================================================================\n",
      "1, https://encrypted-tbn0.gstatic.com/images?q=tbn:ANd9GcSe6btsPQ-8Mi_X96Wde8_fw2iUjsbQSok1kA&s\n",
      "2, https://encrypted-tbn0.gstatic.com/images?q=tbn:ANd9GcQE1KYl7tdg4Vf1VZ6uVq-37hDPrHeo6DwcvA&s\n",
      "3, https://encrypted-tbn0.gstatic.com/images?q=tbn:ANd9GcRaaeqOqExHJNVujyIQB2iDWv9ZYydH1Drs3Q&s\n",
      "====================================================================================================\n",
      "Google 크롤링 완료\n",
      "Browser : Google, Topic : hand, 이미지 수 : 3개\n",
      "====================================================================================================\n"
     ]
    },
    {
     "data": {
      "text/plain": [
       "['https://encrypted-tbn0.gstatic.com/images?q=tbn:ANd9GcSe6btsPQ-8Mi_X96Wde8_fw2iUjsbQSok1kA&s',\n",
       " 'https://encrypted-tbn0.gstatic.com/images?q=tbn:ANd9GcQE1KYl7tdg4Vf1VZ6uVq-37hDPrHeo6DwcvA&s',\n",
       " 'https://encrypted-tbn0.gstatic.com/images?q=tbn:ANd9GcRaaeqOqExHJNVujyIQB2iDWv9ZYydH1Drs3Q&s']"
      ]
     },
     "execution_count": 3,
     "metadata": {},
     "output_type": "execute_result"
    }
   ],
   "source": [
    "test = CollectLinks()\n",
    "test.img_links(browser = 'google', topic = 'hand', limit = 3)"
   ]
  },
  {
   "cell_type": "code",
   "execution_count": null,
   "id": "c7312aae",
   "metadata": {},
   "outputs": [],
   "source": [
    "class Crawling :\n",
    "    \n",
    "    def __init__(self, n_threads = 4, google = True, naver = True, no_gui = False, limit = 10) :\n",
    "        "
   ]
  }
 ],
 "metadata": {
  "kernelspec": {
   "display_name": "Project_python3.9",
   "language": "python",
   "name": "project"
  },
  "language_info": {
   "codemirror_mode": {
    "name": "ipython",
    "version": 3
   },
   "file_extension": ".py",
   "mimetype": "text/x-python",
   "name": "python",
   "nbconvert_exporter": "python",
   "pygments_lexer": "ipython3",
   "version": "3.9.20"
  }
 },
 "nbformat": 4,
 "nbformat_minor": 5
}
