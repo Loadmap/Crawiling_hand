{
 "cells": [
  {
   "cell_type": "code",
   "execution_count": 26,
   "id": "24d618f1",
   "metadata": {},
   "outputs": [
    {
     "name": "stdout",
     "output_type": "stream",
     "text": [
      "Reinitialized existing Git repository in D:/Project/Crawling_hand/.git/\n"
     ]
    }
   ],
   "source": [
    "!git init"
   ]
  },
  {
   "cell_type": "code",
   "execution_count": 28,
   "id": "879d6ae0",
   "metadata": {},
   "outputs": [
    {
     "name": "stdout",
     "output_type": "stream",
     "text": [
      "On branch master\n",
      "\n",
      "No commits yet\n",
      "\n",
      "Changes to be committed:\n",
      "  (use \"git rm --cached <file>...\" to unstage)\n",
      "\tnew file:   .gitignore\n",
      "\tnew file:   .ipynb_checkpoints/Crawling_hand-checkpoint.ipynb\n",
      "\tnew file:   .ipynb_checkpoints/git-checkpoint.ipynb\n",
      "\tnew file:   Crawling_hand.ipynb\n",
      "\tnew file:   git.ipynb\n",
      "\tnew file:   topic.txt\n",
      "\n",
      "Changes not staged for commit:\n",
      "  (use \"git add <file>...\" to update what will be committed)\n",
      "  (use \"git restore <file>...\" to discard changes in working directory)\n",
      "\tmodified:   .ipynb_checkpoints/Crawling_hand-checkpoint.ipynb\n",
      "\tmodified:   git.ipynb\n",
      "\n"
     ]
    }
   ],
   "source": [
    "!git status"
   ]
  },
  {
   "cell_type": "code",
   "execution_count": 1,
   "id": "96b8d871",
   "metadata": {},
   "outputs": [
    {
     "name": "stdout",
     "output_type": "stream",
     "text": [
      "D:\\Project\\Crawling_hand\n"
     ]
    }
   ],
   "source": [
    "%cd \"D:/Project/Crawling_hand\""
   ]
  },
  {
   "cell_type": "code",
   "execution_count": 2,
   "id": "a47a0862",
   "metadata": {},
   "outputs": [
    {
     "name": "stderr",
     "output_type": "stream",
     "text": [
      "warning: in the working copy of '.ipynb_checkpoints/Crawling_hand-checkpoint.ipynb', LF will be replaced by CRLF the next time Git touches it\n",
      "warning: in the working copy of '.ipynb_checkpoints/git-checkpoint.ipynb', LF will be replaced by CRLF the next time Git touches it\n",
      "warning: in the working copy of 'Crawling_hand.ipynb', LF will be replaced by CRLF the next time Git touches it\n"
     ]
    }
   ],
   "source": [
    "!git add ."
   ]
  },
  {
   "cell_type": "code",
   "execution_count": 3,
   "id": "b6d0a10c",
   "metadata": {},
   "outputs": [
    {
     "name": "stdout",
     "output_type": "stream",
     "text": [
      "[master 09b3245] 蹂�寃쎈맂 紐⑤뱺 �뙆�씪 而ㅻ컠\n",
      " 3 files changed, 2005 insertions(+), 96 deletions(-)\n"
     ]
    }
   ],
   "source": [
    "!git commit -m \"변경된 모든 파일 커밋\""
   ]
  },
  {
   "cell_type": "code",
   "execution_count": 4,
   "id": "3fa33de7",
   "metadata": {},
   "outputs": [
    {
     "name": "stdout",
     "output_type": "stream",
     "text": [
      "branch 'master' set up to track 'origin/master'.\n"
     ]
    },
    {
     "name": "stderr",
     "output_type": "stream",
     "text": [
      "To https://github.com/Loadmap/Crawiling_hand.git\n",
      "   ffa5b99..09b3245  master -> master\n"
     ]
    }
   ],
   "source": [
    "!git push -u origin master"
   ]
  },
  {
   "cell_type": "code",
   "execution_count": 5,
   "id": "ad465202",
   "metadata": {},
   "outputs": [
    {
     "name": "stdout",
     "output_type": "stream",
     "text": [
      "commit 09b324567424f931e6d4fd6795be2045036ef965\n",
      "Author: InHyeok Jang <dlsrhd95@gmail.com>\n",
      "Date:   Thu Oct 24 01:54:07 2024 +0900\n",
      "\n",
      "    蹂�寃쎈맂 紐⑤뱺 �뙆�씪 而ㅻ컠\n",
      "\n",
      "commit ffa5b99dc86e986cac359adfd17b81d79e29ffc6\n",
      "Author: InHyeok Jang <dlsrhd95@gmail.com>\n",
      "Date:   Wed Oct 23 00:00:12 2024 +0900\n",
      "\n",
      "    蹂�寃쎈맂 紐⑤뱺 �뙆�씪 而ㅻ컠\n",
      "\n",
      "commit 58a7fa4ade517df0b91f041a89743986d5b9dfff\n",
      "Author: InHyeok Jang <dlsrhd95@gmail.com>\n",
      "Date:   Tue Oct 22 23:59:51 2024 +0900\n",
      "\n",
      "    蹂�寃쎈맂 紐⑤뱺 �뙆�씪 而ㅻ컠\n",
      "\n",
      "commit ed07ce2dd20a2ad30db5926deaf9fea766b7bf2c\n",
      "Author: InHyeok Jang <dlsrhd95@gmail.com>\n",
      "Date:   Tue Oct 22 23:56:50 2024 +0900\n",
      "\n",
      "    蹂�寃쎈맂 紐⑤뱺 �뙆�씪 而ㅻ컠\n",
      "\n",
      "commit da57b05b55f57300e35e4707b8d03f45599594a2\n",
      "Author: InHyeok Jang <dlsrhd95@gmail.com>\n",
      "Date:   Tue Oct 22 23:53:25 2024 +0900\n",
      "\n",
      "    蹂�寃쎈맂 紐⑤뱺 �뙆�씪 而ㅻ컠\n",
      "\n",
      "commit 68fc8e0ddcf71aac8128f776b6a4625e1eed894e\n",
      "Author: InHyeok Jang <dlsrhd95@gmail.com>\n",
      "Date:   Tue Oct 22 23:46:02 2024 +0900\n",
      "\n",
      "    蹂�寃쎈맂 紐⑤뱺 �뙆�씪 而ㅻ컠\n"
     ]
    }
   ],
   "source": [
    "!git log"
   ]
  },
  {
   "cell_type": "code",
   "execution_count": 20,
   "id": "d6fae2d7",
   "metadata": {},
   "outputs": [],
   "source": [
    "!git remote add origin https://github.com/Loadmap/Crawiling_hand.git"
   ]
  },
  {
   "cell_type": "code",
   "execution_count": 23,
   "id": "7cef4ab6",
   "metadata": {},
   "outputs": [
    {
     "name": "stdout",
     "output_type": "stream",
     "text": [
      "origin\thttps://github.com/Loadmap/Crawiling_hand.git (fetch)\n",
      "origin\thttps://github.com/Loadmap/Crawiling_hand.git (push)\n"
     ]
    }
   ],
   "source": [
    "!git remote -v"
   ]
  },
  {
   "cell_type": "code",
   "execution_count": 56,
   "id": "0c6d3966",
   "metadata": {},
   "outputs": [
    {
     "name": "stderr",
     "output_type": "stream",
     "text": [
      "fatal: pathspec '.' did not match any files\n"
     ]
    }
   ],
   "source": [
    "!git rm -r --cached ."
   ]
  }
 ],
 "metadata": {
  "kernelspec": {
   "display_name": "Project_python3.9",
   "language": "python",
   "name": "project"
  },
  "language_info": {
   "codemirror_mode": {
    "name": "ipython",
    "version": 3
   },
   "file_extension": ".py",
   "mimetype": "text/x-python",
   "name": "python",
   "nbconvert_exporter": "python",
   "pygments_lexer": "ipython3",
   "version": "3.9.20"
  }
 },
 "nbformat": 4,
 "nbformat_minor": 5
}
