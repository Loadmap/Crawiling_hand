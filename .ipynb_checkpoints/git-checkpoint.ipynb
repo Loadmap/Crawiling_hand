{
 "cells": [
  {
   "cell_type": "code",
   "execution_count": 26,
   "id": "24d618f1",
   "metadata": {},
   "outputs": [
    {
     "name": "stdout",
     "output_type": "stream",
     "text": [
      "Reinitialized existing Git repository in D:/Project/Crawling_hand/.git/\n"
     ]
    }
   ],
   "source": [
    "!git init"
   ]
  },
  {
   "cell_type": "code",
   "execution_count": 28,
   "id": "879d6ae0",
   "metadata": {},
   "outputs": [
    {
     "name": "stdout",
     "output_type": "stream",
     "text": [
      "On branch master\n",
      "\n",
      "No commits yet\n",
      "\n",
      "Changes to be committed:\n",
      "  (use \"git rm --cached <file>...\" to unstage)\n",
      "\tnew file:   .gitignore\n",
      "\tnew file:   .ipynb_checkpoints/Crawling_hand-checkpoint.ipynb\n",
      "\tnew file:   .ipynb_checkpoints/git-checkpoint.ipynb\n",
      "\tnew file:   Crawling_hand.ipynb\n",
      "\tnew file:   git.ipynb\n",
      "\tnew file:   topic.txt\n",
      "\n",
      "Changes not staged for commit:\n",
      "  (use \"git add <file>...\" to update what will be committed)\n",
      "  (use \"git restore <file>...\" to discard changes in working directory)\n",
      "\tmodified:   .ipynb_checkpoints/Crawling_hand-checkpoint.ipynb\n",
      "\tmodified:   git.ipynb\n",
      "\n"
     ]
    }
   ],
   "source": [
    "!git status"
   ]
  },
  {
   "cell_type": "code",
   "execution_count": 1,
   "id": "96b8d871",
   "metadata": {},
   "outputs": [
    {
     "name": "stdout",
     "output_type": "stream",
     "text": [
      "D:\\Project\\Crawling_hand\n"
     ]
    }
   ],
   "source": [
    "%cd \"D:/Project/Crawling_hand\""
   ]
  },
  {
   "cell_type": "code",
   "execution_count": 2,
   "id": "a47a0862",
   "metadata": {},
   "outputs": [
    {
     "name": "stderr",
     "output_type": "stream",
     "text": [
      "warning: in the working copy of '.ipynb_checkpoints/Crawling_hand_struct-checkpoint.ipynb', LF will be replaced by CRLF the next time Git touches it\n",
      "warning: in the working copy of '.ipynb_checkpoints/git-checkpoint.ipynb', LF will be replaced by CRLF the next time Git touches it\n",
      "warning: in the working copy of 'Crawling_hand_struct.ipynb', LF will be replaced by CRLF the next time Git touches it\n",
      "warning: in the working copy of 'main_struct.ipynb', LF will be replaced by CRLF the next time Git touches it\n"
     ]
    }
   ],
   "source": [
    "!git add ."
   ]
  },
  {
   "cell_type": "code",
   "execution_count": 3,
   "id": "b6d0a10c",
   "metadata": {},
   "outputs": [
    {
     "name": "stdout",
     "output_type": "stream",
     "text": [
      "[master e031c4f] 蹂�寃쎈맂 紐⑤뱺 �뙆�씪 而ㅻ컠\n",
      " 6 files changed, 247 insertions(+), 118 deletions(-)\n"
     ]
    }
   ],
   "source": [
    "!git commit -m \"변경된 모든 파일 커밋\""
   ]
  },
  {
   "cell_type": "code",
   "execution_count": 4,
   "id": "3fa33de7",
   "metadata": {},
   "outputs": [
    {
     "name": "stdout",
     "output_type": "stream",
     "text": [
      "branch 'master' set up to track 'origin/master'.\n"
     ]
    },
    {
     "name": "stderr",
     "output_type": "stream",
     "text": [
      "To https://github.com/Loadmap/Crawiling_hand.git\n",
      "   a37fbb2..e031c4f  master -> master\n"
     ]
    }
   ],
   "source": [
    "!git push -u origin master"
   ]
  },
  {
   "cell_type": "code",
   "execution_count": 5,
   "id": "ad465202",
   "metadata": {},
   "outputs": [
    {
     "name": "stdout",
     "output_type": "stream",
     "text": [
      "commit e031c4feba10e89c4f1c849cdfab10f1bc181584\n",
      "Author: InHyeok Jang <dlsrhd95@gmail.com>\n",
      "Date:   Mon Nov 18 23:26:09 2024 +0900\n",
      "\n",
      "    蹂�寃쎈맂 紐⑤뱺 �뙆�씪 而ㅻ컠\n",
      "\n",
      "commit a37fbb2cfebc2c84032740f4bbd3b4d910ea26b5\n",
      "Author: InHyeok Jang <dlsrhd95@gmail.com>\n",
      "Date:   Thu Nov 14 22:35:18 2024 +0900\n",
      "\n",
      "    蹂�寃쎈맂 紐⑤뱺 �뙆�씪 而ㅻ컠\n",
      "\n",
      "commit 64a97b25b03738443256cf41913a53def4cab04d\n",
      "Author: InHyeok Jang <dlsrhd95@gmail.com>\n",
      "Date:   Wed Nov 13 22:17:39 2024 +0900\n",
      "\n",
      "    蹂�寃쎈맂 紐⑤뱺 �뙆�씪 而ㅻ컠\n",
      "\n",
      "commit 01bfbc0a7f218569dcf646ffd3790c51e822adbe\n",
      "Author: InHyeok Jang <dlsrhd95@gmail.com>\n",
      "Date:   Tue Nov 12 22:56:06 2024 +0900\n",
      "\n",
      "    蹂�寃쎈맂 紐⑤뱺 �뙆�씪 而ㅻ컠\n",
      "\n",
      "commit 01feea42c4b33213496676a6593c4dd1a3c0a0de\n",
      "Author: InHyeok Jang <dlsrhd95@gmail.com>\n",
      "Date:   Tue Nov 5 23:26:34 2024 +0900\n",
      "\n",
      "    蹂�寃쎈맂 紐⑤뱺 �뙆�씪 而ㅻ컠\n",
      "\n",
      "commit 55a6c986ff5110132600d7a17e132ed2d2fd144d\n",
      "Author: InHyeok Jang <dlsrhd95@gmail.com>\n",
      "Date:   Mon Nov 4 23:20:51 2024 +0900\n",
      "\n",
      "    蹂�寃쎈맂 紐⑤뱺 �뙆�씪 而ㅻ컠\n",
      "\n",
      "commit a3229c2302a5cbd7ad407362b6b46f9e7183ec84\n",
      "Author: InHyeok Jang <dlsrhd95@gmail.com>\n",
      "Date:   Fri Nov 1 22:17:12 2024 +0900\n",
      "\n",
      "    蹂�寃쎈맂 紐⑤뱺 �뙆�씪 而ㅻ컠\n",
      "\n",
      "commit c7d615d2a242d99999e2e9aae3eb635b72ab07e8\n",
      "Author: InHyeok Jang <dlsrhd95@gmail.com>\n",
      "Date:   Thu Oct 31 22:33:01 2024 +0900\n",
      "\n",
      "    蹂�寃쎈맂 紐⑤뱺 �뙆�씪 而ㅻ컠\n",
      "\n",
      "commit 7022b7a2c43977e46db218259913ef71f62ccd29\n",
      "Author: InHyeok Jang <dlsrhd95@gmail.com>\n",
      "Date:   Wed Oct 30 22:14:06 2024 +0900\n",
      "\n",
      "    蹂�寃쎈맂 紐⑤뱺 �뙆�씪 而ㅻ컠\n",
      "\n",
      "commit 53d2936404ba9724ec8664091ae65e20fbeb3959\n",
      "Author: InHyeok Jang <dlsrhd95@gmail.com>\n",
      "Date:   Tue Oct 29 22:42:50 2024 +0900\n",
      "\n",
      "    蹂�寃쎈맂 紐⑤뱺 �뙆�씪 而ㅻ컠\n",
      "\n",
      "commit 905d81c6bc036d5551272c8b47eac5a5ae45cdd4\n",
      "Author: InHyeok Jang <dlsrhd95@gmail.com>\n",
      "Date:   Mon Oct 28 21:58:05 2024 +0900\n",
      "\n",
      "    蹂�寃쎈맂 紐⑤뱺 �뙆�씪 而ㅻ컠\n",
      "\n",
      "commit 9e4a6433a9091b55258ce23c753f5d4e712f1a92\n",
      "Author: InHyeok Jang <dlsrhd95@gmail.com>\n",
      "Date:   Fri Oct 25 01:48:43 2024 +0900\n",
      "\n",
      "    蹂�寃쎈맂 紐⑤뱺 �뙆�씪 而ㅻ컠\n",
      "\n",
      "commit 09b324567424f931e6d4fd6795be2045036ef965\n",
      "Author: InHyeok Jang <dlsrhd95@gmail.com>\n",
      "Date:   Thu Oct 24 01:54:07 2024 +0900\n",
      "\n",
      "    蹂�寃쎈맂 紐⑤뱺 �뙆�씪 而ㅻ컠\n",
      "\n",
      "commit ffa5b99dc86e986cac359adfd17b81d79e29ffc6\n",
      "Author: InHyeok Jang <dlsrhd95@gmail.com>\n",
      "Date:   Wed Oct 23 00:00:12 2024 +0900\n",
      "\n",
      "    蹂�寃쎈맂 紐⑤뱺 �뙆�씪 而ㅻ컠\n",
      "\n",
      "commit 58a7fa4ade517df0b91f041a89743986d5b9dfff\n",
      "Author: InHyeok Jang <dlsrhd95@gmail.com>\n",
      "Date:   Tue Oct 22 23:59:51 2024 +0900\n",
      "\n",
      "    蹂�寃쎈맂 紐⑤뱺 �뙆�씪 而ㅻ컠\n",
      "\n",
      "commit ed07ce2dd20a2ad30db5926deaf9fea766b7bf2c\n",
      "Author: InHyeok Jang <dlsrhd95@gmail.com>\n",
      "Date:   Tue Oct 22 23:56:50 2024 +0900\n",
      "\n",
      "    蹂�寃쎈맂 紐⑤뱺 �뙆�씪 而ㅻ컠\n",
      "\n",
      "commit da57b05b55f57300e35e4707b8d03f45599594a2\n",
      "Author: InHyeok Jang <dlsrhd95@gmail.com>\n",
      "Date:   Tue Oct 22 23:53:25 2024 +0900\n",
      "\n",
      "    蹂�寃쎈맂 紐⑤뱺 �뙆�씪 而ㅻ컠\n",
      "\n",
      "commit 68fc8e0ddcf71aac8128f776b6a4625e1eed894e\n",
      "Author: InHyeok Jang <dlsrhd95@gmail.com>\n",
      "Date:   Tue Oct 22 23:46:02 2024 +0900\n",
      "\n",
      "    蹂�寃쎈맂 紐⑤뱺 �뙆�씪 而ㅻ컠\n"
     ]
    }
   ],
   "source": [
    "!git log"
   ]
  },
  {
   "cell_type": "code",
   "execution_count": 20,
   "id": "d6fae2d7",
   "metadata": {},
   "outputs": [],
   "source": [
    "!git remote add origin https://github.com/Loadmap/Crawiling_hand.git"
   ]
  },
  {
   "cell_type": "code",
   "execution_count": 23,
   "id": "7cef4ab6",
   "metadata": {},
   "outputs": [
    {
     "name": "stdout",
     "output_type": "stream",
     "text": [
      "origin\thttps://github.com/Loadmap/Crawiling_hand.git (fetch)\n",
      "origin\thttps://github.com/Loadmap/Crawiling_hand.git (push)\n"
     ]
    }
   ],
   "source": [
    "!git remote -v"
   ]
  },
  {
   "cell_type": "code",
   "execution_count": 56,
   "id": "0c6d3966",
   "metadata": {},
   "outputs": [
    {
     "name": "stderr",
     "output_type": "stream",
     "text": [
      "fatal: pathspec '.' did not match any files\n"
     ]
    }
   ],
   "source": [
    "!git rm -r --cached ."
   ]
  }
 ],
 "metadata": {
  "kernelspec": {
   "display_name": "Project_python3.9",
   "language": "python",
   "name": "project"
  },
  "language_info": {
   "codemirror_mode": {
    "name": "ipython",
    "version": 3
   },
   "file_extension": ".py",
   "mimetype": "text/x-python",
   "name": "python",
   "nbconvert_exporter": "python",
   "pygments_lexer": "ipython3",
   "version": "3.9.20"
  }
 },
 "nbformat": 4,
 "nbformat_minor": 5
}
