{
 "cells": [
  {
   "cell_type": "code",
   "execution_count": 2,
   "id": "b526d383",
   "metadata": {},
   "outputs": [],
   "source": [
    "import os\n",
    "from collect_links import CollectLinks\n",
    "from urllib.request import Request, urlopen"
   ]
  },
  {
   "cell_type": "code",
   "execution_count": 3,
   "id": "8e9f35d3",
   "metadata": {},
   "outputs": [
    {
     "name": "stdout",
     "output_type": "stream",
     "text": [
      "====================================================================================================\n",
      "정상 작동\n",
      "현재 Chrome 브라우저 버전: 130.0.6723.70\n",
      "현재 ChromeDriver 버전: 130.0.6723.91\n",
      "현재 경로에 파일 존재\n",
      "====================================================================================================\n",
      "1, https://search.pstatic.net/sunny/?src=https%3A%2F%2Fi.pinimg.com%2F736x%2F8d%2F2d%2Fc0%2F8d2dc094b706a6925d02097466340d6a.jpg&type=sc960_832\n",
      "2, https://search.pstatic.net/sunny/?src=http%3A%2F%2Fimagescdn.gettyimagesbank.com%2F500%2F08%2F622%2F984%2F0%2F90150208.jpg&type=sc960_832\n",
      "3, https://search.pstatic.net/sunny/?src=https%3A%2F%2Fi.pinimg.com%2F736x%2Fc5%2F0a%2F7d%2Fc50a7dbb9993eb4af846b6708d430805.jpg&type=sc960_832\n",
      "====================================================================================================\n",
      "Naver 크롤링 완료\n",
      "Browser : Naver, Topic : hand, 이미지 수 : 3개\n",
      "====================================================================================================\n"
     ]
    },
    {
     "data": {
      "text/plain": [
       "['https://search.pstatic.net/sunny/?src=https%3A%2F%2Fi.pinimg.com%2F736x%2F8d%2F2d%2Fc0%2F8d2dc094b706a6925d02097466340d6a.jpg&type=sc960_832',\n",
       " 'https://search.pstatic.net/sunny/?src=http%3A%2F%2Fimagescdn.gettyimagesbank.com%2F500%2F08%2F622%2F984%2F0%2F90150208.jpg&type=sc960_832',\n",
       " 'https://search.pstatic.net/sunny/?src=https%3A%2F%2Fi.pinimg.com%2F736x%2Fc5%2F0a%2F7d%2Fc50a7dbb9993eb4af846b6708d430805.jpg&type=sc960_832']"
      ]
     },
     "execution_count": 3,
     "metadata": {},
     "output_type": "execute_result"
    }
   ],
   "source": [
    "test = CollectLinks()\n",
    "test.img_links(browser = 'naver', topic = 'hand', limit = 3)"
   ]
  },
  {
   "cell_type": "code",
   "execution_count": 24,
   "id": "6cd231ca",
   "metadata": {},
   "outputs": [
    {
     "data": {
      "text/plain": [
       "['hand', 'face']"
      ]
     },
     "execution_count": 24,
     "metadata": {},
     "output_type": "execute_result"
    }
   ],
   "source": [
    "# def find_file(root_dir, file_name) :\n",
    "    \n",
    "#     for dir_path, dir_names, file_names in os.walk(root_dir) :\n",
    "        \n",
    "#         for file_name in file_names :\n",
    "            \n",
    "# @staticmethod\n",
    "def make_and_read_topic() :\n",
    "    current_path = os.getcwd()\n",
    "    txt_path = os.path.join(current_path, 'topic.txt')\n",
    "    \n",
    "    if not os.path.exists(txt_path) :\n",
    "        \n",
    "        with open(txt_path, 'w', encoding = 'utf-8') as f :\n",
    "            f.write('hand, face')\n",
    "            \n",
    "    with open(txt_path, 'r', encoding = 'utf-8') as f :\n",
    "        topics = []\n",
    "        \n",
    "        for topic in f.read().split(',') :\n",
    "            topics.append(topic.strip())\n",
    "        \n",
    "    return topics\n",
    "        \n",
    "    \n",
    "make_and_read_topic()"
   ]
  },
  {
   "cell_type": "code",
   "execution_count": null,
   "id": "c7312aae",
   "metadata": {},
   "outputs": [],
   "source": [
    "class Crawling :\n",
    "    \n",
    "    def __init__(self, n_threads = 4, google = True, naver = True, no_gui = False, limit = 10) :\n",
    "        \n",
    "        self.n_treads = n_threds\n",
    "        self.google = google\n",
    "        self.naver = naver\n",
    "        self.no_gui = no_gui\n",
    "        self.limit = limit\n",
    "        \n",
    "       "
   ]
  }
 ],
 "metadata": {
  "kernelspec": {
   "display_name": "Project_python3.9",
   "language": "python",
   "name": "project"
  },
  "language_info": {
   "codemirror_mode": {
    "name": "ipython",
    "version": 3
   },
   "file_extension": ".py",
   "mimetype": "text/x-python",
   "name": "python",
   "nbconvert_exporter": "python",
   "pygments_lexer": "ipython3",
   "version": "3.9.20"
  }
 },
 "nbformat": 4,
 "nbformat_minor": 5
}
