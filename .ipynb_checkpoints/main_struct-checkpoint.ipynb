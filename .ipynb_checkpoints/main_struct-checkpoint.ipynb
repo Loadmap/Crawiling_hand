{
 "cells": [
  {
   "cell_type": "code",
   "execution_count": 1,
   "id": "b526d383",
   "metadata": {},
   "outputs": [],
   "source": [
    "import sys\n",
    "import os\n",
    "import requests\n",
    "import shutil\n",
    "import imghdr\n",
    "from collect_links import CollectLinks\n",
    "from urllib.request import Request, urlopen\n",
    "from multiprocessing import Pool"
   ]
  },
  {
   "cell_type": "code",
   "execution_count": 2,
   "id": "6cd231ca",
   "metadata": {},
   "outputs": [],
   "source": [
    "def find_file(root_dir, file_name) :\n",
    "    \n",
    "    for dir_path, dir_names, file_names in os.walk(root_dir) :\n",
    "        \n",
    "        for file_name in file_names :\n",
    "            print()\n",
    "\n",
    "# @staticmethod\n",
    "def make_dir(name) :\n",
    "    current_path = os.getcwd()\n",
    "    path = os.path.join(current_path, name)\n",
    "        \n",
    "    if not os.path.exists(path) :\n",
    "        os.makedirs(path)\n",
    "            \n",
    "# @staticmethod\n",
    "def make_and_read_topic() :\n",
    "    current_path = os.getcwd()\n",
    "    txt_path = os.path.join(current_path, 'topic.txt')\n",
    "    \n",
    "    if not os.path.exists(txt_path) :\n",
    "        \n",
    "        with open(txt_path, 'w', encoding = 'utf-8') as f :\n",
    "            f.write('hand, face')\n",
    "        \n",
    "    with open(txt_path, 'r', encoding = 'utf-8') as f :\n",
    "        topics = []\n",
    "\n",
    "        for topic in f.read().split(',') :\n",
    "            topics.append(topic.strip())\n",
    "    \n",
    "    return topics\n",
    "        \n",
    "    \n",
    "topics = make_and_read_topic()"
   ]
  },
  {
   "cell_type": "code",
   "execution_count": 3,
   "id": "89ce3c6c",
   "metadata": {},
   "outputs": [],
   "source": [
    "collect_links = CollectLinks\n",
    "browser_data, browser_keys = collect_links.read_json_browser()"
   ]
  },
  {
   "cell_type": "code",
   "execution_count": 4,
   "id": "b9225059",
   "metadata": {},
   "outputs": [],
   "source": [
    "def get_extension(link) :\n",
    "    sep = str(link).split('.')\n",
    "    ext = sep[-1].lower()\n",
    "    \n",
    "    if ext == 'jpg' or ext == 'jpeg' :\n",
    "        \n",
    "        return 'jpg'\n",
    "    \n",
    "    elif ext == 'png' :\n",
    "        \n",
    "        return 'png'\n",
    "    \n",
    "    elif ext == 'gif' :\n",
    "        \n",
    "        return 'gif'\n",
    "    \n",
    "    else :\n",
    "        \n",
    "        return 'jpg'\n",
    "    \n",
    "def save_files(response, file_path) :\n",
    "    \n",
    "    try :\n",
    "        \n",
    "        with open(f'{file_path}', 'wb') as f :\n",
    "            shutil.copyfileobj(response.raw, f)\n",
    "            \n",
    "    except Exception as e :\n",
    "        print(f'저장 실패  : {e}')"
   ]
  },
  {
   "cell_type": "code",
   "execution_count": 6,
   "id": "7c924f67",
   "metadata": {},
   "outputs": [
    {
     "name": "stdout",
     "output_type": "stream",
     "text": [
      "1, https://search.pstatic.net/sunny/?src=https%3A%2F%2Fi3.ruliweb.com%2Fimg%2F23%2F02%2F04%2F1861ae630133b8ff6.jpg&type=sc960_832\n",
      "2, https://search.pstatic.net/sunny/?src=http%3A%2F%2Fimagescdn.gettyimagesbank.com%2F500%2F08%2F622%2F984%2F0%2F90150208.jpg&type=sc960_832\n",
      "3, https://search.pstatic.net/sunny/?src=https%3A%2F%2Fi.pinimg.com%2F736x%2Fc5%2F0a%2F7d%2Fc50a7dbb9993eb4af846b6708d430805.jpg&type=sc960_832\n",
      "4, https://search.pstatic.net/sunny/?src=https%3A%2F%2Fmedia.gettyimages.com%2Fphotos%2Fcropped-hand-gesturing-number-5-against-white-background-picture-id1053748716%3Fk%3D6%26m%3D1053748716%26s%3D612x612%26w%3D0%26h%3DmxuTx38KL-hIKi3956d9Z5lC-jJdp4OAzpEYdu8Ux6s%3D&type=sc960_832\n",
      "5, https://search.pstatic.net/sunny/?src=https%3A%2F%2Fas1.ftcdn.net%2Fv2%2Fjpg%2F00%2F72%2F22%2F54%2F1000_F_72225458_91GQ8r2KC3UTtFZgsjpORMuyfK11oWeo.jpg&type=sc960_832\n",
      "====================================================================================================\n",
      "Naver 크롤링 완료\n",
      "Browser : Naver, Topic : hand, 이미지 수 : 5개\n",
      "====================================================================================================\n",
      "naver 로부터 다운로드 중\n",
      "1 / 5 : https://search.pstatic.net/sunny/?src=https%3A%2F%2Fi3.ruliweb.com%2Fimg%2F23%2F02%2F04%2F1861ae630133b8ff6.jpg&type=sc960_832\n",
      "다운로드 완료\n",
      "----------------------------------------------------------------------------------------------------\n",
      "2 / 5 : https://search.pstatic.net/sunny/?src=http%3A%2F%2Fimagescdn.gettyimagesbank.com%2F500%2F08%2F622%2F984%2F0%2F90150208.jpg&type=sc960_832\n",
      "다운로드 완료\n",
      "----------------------------------------------------------------------------------------------------\n",
      "3 / 5 : https://search.pstatic.net/sunny/?src=https%3A%2F%2Fi.pinimg.com%2F736x%2Fc5%2F0a%2F7d%2Fc50a7dbb9993eb4af846b6708d430805.jpg&type=sc960_832\n",
      "다운로드 완료\n",
      "----------------------------------------------------------------------------------------------------\n",
      "4 / 5 : https://search.pstatic.net/sunny/?src=https%3A%2F%2Fmedia.gettyimages.com%2Fphotos%2Fcropped-hand-gesturing-number-5-against-white-background-picture-id1053748716%3Fk%3D6%26m%3D1053748716%26s%3D612x612%26w%3D0%26h%3DmxuTx38KL-hIKi3956d9Z5lC-jJdp4OAzpEYdu8Ux6s%3D&type=sc960_832\n",
      "다운로드 완료\n",
      "----------------------------------------------------------------------------------------------------\n",
      "5 / 5 : https://search.pstatic.net/sunny/?src=https%3A%2F%2Fas1.ftcdn.net%2Fv2%2Fjpg%2F00%2F72%2F22%2F54%2F1000_F_72225458_91GQ8r2KC3UTtFZgsjpORMuyfK11oWeo.jpg&type=sc960_832\n",
      "다운로드 완료\n",
      "----------------------------------------------------------------------------------------------------\n"
     ]
    }
   ],
   "source": [
    "download_path = 'download'\n",
    "browser = 'naver'\n",
    "topic = 'hand'\n",
    "limit = 5\n",
    "\n",
    "def download_imgs(browser, topic, links, max_cnt = 0) :\n",
    "    make_dir(f'{download_path}/{topic}')\n",
    "    total = len(links)\n",
    "    success_cnt = 0\n",
    "    \n",
    "    if max_cnt == 0 :\n",
    "        max_cnt = total\n",
    "        \n",
    "    print(f'{browser} 로부터 다운로드 중')\n",
    "    \n",
    "    for idx, link in enumerate(links) :\n",
    "        \n",
    "        if success_cnt >= max_cnt :\n",
    "            break\n",
    "            \n",
    "        try :\n",
    "            \n",
    "            print(f'{success_cnt + 1} / {total} : {link}')\n",
    "            \n",
    "            response = requests.get(link, stream = True, timeout = 10)\n",
    "            ext = get_extension(link)\n",
    "            \n",
    "            link_path = f'{download_path}/{topic}/{browser}_{str(idx).zfill(4)}'\n",
    "            link_ext_path = f'{link_path}.{ext}'\n",
    "            \n",
    "            save_files(response, link_ext_path)\n",
    "            \n",
    "            success_cnt += 1\n",
    "            \n",
    "            del response\n",
    "            \n",
    "            print('다운로드 완료')\n",
    "            print('-' * 100)\n",
    "            \n",
    "        except Exception as e :\n",
    "            print(f'다운로드 실패 : {e}')\n",
    "            \n",
    "            \n",
    "\n",
    "download = download_imgs(browser =  browser, topic = topic, links = collect_links().img_links(browser = browser, topic = topic, limit = limit))"
   ]
  },
  {
   "cell_type": "code",
   "execution_count": null,
   "id": "17dfc948",
   "metadata": {},
   "outputs": [],
   "source": [
    "collect_links = CollectLinks\n",
    "\n",
    "def pool_func(args) :\n",
    "    limit = 5\n",
    "    browser, topic = args\n",
    "    print(browser, topic)\n",
    "    return CollectLinks().img_links(browser = browser, topic = topic, limit = limit)\n",
    "\n",
    "n_threads = 1\n",
    "arg_li = [('google', 'hand'),('naver', 'hand')]\n",
    "# pool_func(arg_li[1])\n",
    "# pool = Pool(processes = n_threads)\n",
    "# result = pool.map(pool_func, arg_li)\n",
    "\n",
    "with Pool(processes=n_threads) as pool:\n",
    "    result = pool.map(pool_func, arg_li[0])\n",
    "\n",
    "result"
   ]
  },
  {
   "cell_type": "code",
   "execution_count": 5,
   "id": "c7312aae",
   "metadata": {},
   "outputs": [
    {
     "name": "stdout",
     "output_type": "stream",
     "text": [
      "\n",
      "====================================================================================================\n",
      "현재 Chrome 브라우저 버전: 130.0.6723.117\n",
      "현재 ChromeDriver 버전: 130.0.6723.116\n",
      "현재 경로에 파일 존재\n",
      "정상 작동\n",
      "====================================================================================================\n",
      "1, https://encrypted-tbn0.gstatic.com/images?q=tbn:ANd9GcRwJHctQlc2yloyiyzUBqybe24GZ3hO1WGInQ&s\n",
      "2, https://encrypted-tbn0.gstatic.com/images?q=tbn:ANd9GcSBbp4CmDHa5LBq8Rnh5fuzseZWq5jfEQ1whA&s\n",
      "3, https://encrypted-tbn0.gstatic.com/images?q=tbn:ANd9GcQE1KYl7tdg4Vf1VZ6uVq-37hDPrHeo6DwcvA&s\n",
      "4, https://encrypted-tbn0.gstatic.com/images?q=tbn:ANd9GcTo65Y9xz1eBsSPHF-lYbVv1XzlfIm_5ecWbA&s\n",
      "5, https://st2.depositphotos.com/1743476/7762/i/450/depositphotos_77620065-stock-photo-female-hand-holding-something.jpg\n",
      "6, https://i0.wp.com/knowledge.carolina.com/wp-content/uploads/2022/07/volunteer-422598_1920.jpg?fit=1920%2C1280&ssl=1\n",
      "7, https://upload.wikimedia.org/wikipedia/commons/thumb/9/9d/Palm%2C_fingers.jpg/150px-Palm%2C_fingers.jpg\n",
      "8, https://img.freepik.com/free-psd/sensitive-hands-isolated_23-2151337967.jpg\n",
      "9, https://cdn.prod.website-files.com/622488277ab5ee818d179d9f/6633f6342da73c6b12fc0fea_638785c53483c55af410ac71_handmodel.webp\n",
      "10, https://encrypted-tbn0.gstatic.com/images?q=tbn:ANd9GcTeFMzZ4aDiFUU7DCGMAynlL6X5yggXItvAGw&s\n",
      "====================================================================================================\n",
      "Google 크롤링 완료\n",
      "Browser : Google, Topic : hand, 이미지 수 : 10개\n",
      "====================================================================================================\n",
      "1, https://encrypted-tbn0.gstatic.com/images?q=tbn:ANd9GcRZ-5L73wi6bcWE5ptCqaJRHRBVs-3pNOjR_Q&s\n",
      "2, https://encrypted-tbn0.gstatic.com/images?q=tbn:ANd9GcQBqbdg2lrWsTvKvLygwLYXlqevbTCWkfJtIg&s\n",
      "3, https://encrypted-tbn0.gstatic.com/images?q=tbn:ANd9GcTcNKJupk03Ek8GZQSdutkkagd7mL-z7MLjpQ&s\n",
      "4, https://encrypted-tbn0.gstatic.com/images?q=tbn:ANd9GcQmPPQ8KjiwLbmuwOYFhZb_gVQuCqcYwM1WUw&s\n",
      "5, https://encrypted-tbn0.gstatic.com/images?q=tbn:ANd9GcRnAU6-N7yHL1NdV7rM35GHS68z3fKIZ21AEQ&s\n",
      "6, https://encrypted-tbn0.gstatic.com/images?q=tbn:ANd9GcQ8kBWrRuEYNYwMbw7wLrBvXIicNXOm0hLMZg&s\n",
      "7, https://encrypted-tbn0.gstatic.com/images?q=tbn:ANd9GcRFYzU68odQ_irAE_cnUbWxmNnKr5mu_YgadA&s\n",
      "8, https://images.squarespace-cdn.com/content/v1/64bfd6aa127fba0754a78d65/46bc0958-af60-4bae-932a-dd1d0b237a31/beautiful-headshot.jpg\n",
      "9, https://as2.ftcdn.net/v2/jpg/02/18/93/97/1000_F_218939757_YqHgeD3BAANU87y2Kc10Y40HNVgDv5rK.jpg\n",
      "10, https://encrypted-tbn0.gstatic.com/images?q=tbn:ANd9GcQyoUj1rNtgf5FW4U9c661MXLN44Ivm_Bv3rA&s\n",
      "====================================================================================================\n",
      "Google 크롤링 완료\n",
      "Browser : Google, Topic : face, 이미지 수 : 10개\n",
      "====================================================================================================\n",
      "\n",
      "1, https://search.pstatic.net/sunny/?src=http%3A%2F%2Fimagescdn.gettyimagesbank.com%2F500%2F08%2F622%2F984%2F0%2F90150208.jpg&type=sc960_832\n",
      "2, https://search.pstatic.net/sunny/?src=https%3A%2F%2Fi.pinimg.com%2F736x%2Fc5%2F0a%2F7d%2Fc50a7dbb9993eb4af846b6708d430805.jpg&type=sc960_832\n",
      "3, https://search.pstatic.net/sunny/?src=https%3A%2F%2Fi.pinimg.com%2F474x%2Fbe%2Fa7%2F73%2Fbea7732c4b2845db8d96c34b00b8a80e.jpg&type=sc960_832\n",
      "4, https://search.pstatic.net/common/?src=http%3A%2F%2Fblogfiles.naver.net%2FMjAyMjA2MjRfNzUg%2FMDAxNjU2MDM2ODk3NTI3.3IQ_EWrYIbd6VHruiHMp5x1ejX2fwVasSZS299HK5hEg.RHXOu2GVNwce2yt2ivJOZ3lBnaBJfppfzo_RxoACYSIg.JPEG.cmpt2002%2Fus-17_3.jpg&type=sc960_832\n",
      "5, https://search.pstatic.net/sunny/?src=https%3A%2F%2Ftint.creativemarket.com%2F-Whhn2sUVcpQIPjm4noRRB0E8gE01n7JCrikT0KWgLw%2Fwidth%3A1820%2Fheight%3A1213%2Fgravity%3Ace%2Frt%3Afill-down%2Fel%3A1%2FczM6Ly9maWxlcy5jcmVhdGl2ZW1hcmtldC5jb20vaW1hZ2VzL3NjcmVlbnNob3RzL3Byb2R1Y3RzLzUyMS81MjExLzUyMTEyNzEvcG90ZWw2cnFxYXJtOXYyN252bXBhcDFtb3FzZHF3cHN1bm41MzhmMGNxa3RkZzJtanlvc2V3aXJhMWxheGEwYy1vLmpwZw%3F1709783009&type=sc960_832\n",
      "6, https://search.pstatic.net/sunny/?src=https%3A%2F%2Fi.pinimg.com%2Foriginals%2Fc2%2F72%2F6f%2Fc2726f1f33ddca9ecca7d5cadf154f2b.jpg&type=sc960_832\n",
      "7, https://search.pstatic.net/sunny/?src=https%3A%2F%2Fmedia.gettyimages.com%2Fid%2F73448809%2Fphoto%2Fclose-up-studio-shot-of-man-holding-penny.jpg%3Fs%3D612x612%26w%3D0%26k%3D20%26c%3DU1JjPd9WUV9ZyVUGdQqTU46TAkY3far2VBS414nw5fk%3D&type=sc960_832\n",
      "8, https://search.pstatic.net/sunny/?src=https%3A%2F%2Fmedia.gettyimages.com%2Fid%2F78034006%2Fphoto%2Fhand-making-three-sign.jpg%3Fs%3D612x612%26w%3D0%26k%3D20%26c%3D9i5KD3CMjEDh6uvihooVcW5eGnJzHK7nEsWUrpKzd9w%3D&type=sc960_832\n",
      "9, https://search.pstatic.net/sunny/?src=https%3A%2F%2Fmedia.gettyimages.com%2Fphotos%2Fcropped-hand-gesturing-number-5-against-white-background-picture-id1053748716%3Fk%3D6%26m%3D1053748716%26s%3D612x612%26w%3D0%26h%3DmxuTx38KL-hIKi3956d9Z5lC-jJdp4OAzpEYdu8Ux6s%3D&type=sc960_832\n",
      "10, https://search.pstatic.net/sunny/?src=http%3A%2F%2Fimagescdn.gettyimagesbank.com%2F500%2F08%2F040%2F440%2F0%2F97652447.jpg&type=sc960_832\n",
      "====================================================================================================\n",
      "Naver 크롤링 완료\n",
      "Browser : Naver, Topic : hand, 이미지 수 : 10개\n",
      "====================================================================================================\n",
      "1, https://search.pstatic.net/sunny/?src=https%3A%2F%2Fi.pinimg.com%2F736x%2Ff9%2F0c%2Fd1%2Ff90cd18452f0d08df4708a760d7d8f57.jpg&type=sc960_832\n",
      "2, https://search.pstatic.net/sunny/?src=https%3A%2F%2Fi.pinimg.com%2F736x%2F07%2Fbc%2Fb6%2F07bcb6aeea7b07edf9152e723b6c50f7.jpg&type=sc960_832\n",
      "----------------------------------------------------------------------------------------------------\n",
      "2번째 https://search.pstatic.net/sunny/?src=https%3A%2F%2Fi.pinimg.com%2F736x%2F07%2Fbc%2Fb6%2F07bcb6aeea7b07edf9152e723b6c50f7.jpg&type=sc960_832에서 <class 'selenium.common.exceptions.StaleElementReferenceException'> 발생\n",
      "----------------------------------------------------------------------------------------------------\n",
      "3, https://search.pstatic.net/sunny/?src=https%3A%2F%2Fi.pinimg.com%2F736x%2Fc1%2F6b%2Fc9%2Fc16bc914e029e067cfb63548a1d3e85b.jpg&type=sc960_832\n",
      "4, https://search.pstatic.net/sunny/?src=https%3A%2F%2Fi.pinimg.com%2Foriginals%2F04%2F9d%2F87%2F049d873632b81f13bcb28090bb611ce0.jpg&type=sc960_832\n",
      "5, https://search.pstatic.net/sunny/?src=https%3A%2F%2Fi.pinimg.com%2Foriginals%2F6f%2F89%2Fb0%2F6f89b00e9878ff1d9b66dd72e7e1986e.jpg&type=sc960_832\n",
      "6, https://search.pstatic.net/sunny/?src=http%3A%2F%2Fmedia.istockphoto.com%2Fvectors%2Fyoung-girl-face-vector-id528478270&type=sc960_832\n",
      "----------------------------------------------------------------------------------------------------\n",
      "6번째 https://search.pstatic.net/sunny/?src=http%3A%2F%2Fmedia.istockphoto.com%2Fvectors%2Fyoung-girl-face-vector-id528478270&type=sc960_832에서 <class 'selenium.common.exceptions.StaleElementReferenceException'> 발생\n",
      "----------------------------------------------------------------------------------------------------\n",
      "7, https://search.pstatic.net/sunny/?src=https%3A%2F%2Fi.pinimg.com%2F736x%2Fa6%2F37%2F15%2Fa63715e6bfb09d3126a39266d5966dcb.jpg&type=sc960_832\n",
      "8, https://search.pstatic.net/sunny/?src=https%3A%2F%2Fi.pinimg.com%2F736x%2Ffa%2F06%2F8a%2Ffa068a003e28a37580a595f0a579ae74.jpg&type=sc960_832\n",
      "9, https://search.pstatic.net/sunny/?src=https%3A%2F%2Fi.pinimg.com%2Foriginals%2F69%2F3d%2Fd7%2F693dd794eba810404bb1602959be5c6e.jpg&type=sc960_832\n",
      "10, https://search.pstatic.net/sunny/?src=https%3A%2F%2Fi.pinimg.com%2Foriginals%2F2f%2F54%2F1a%2F2f541a27ebb96dcdb7349096feb7461a.jpg&type=sc960_832\n",
      "====================================================================================================\n",
      "Naver 크롤링 완료\n",
      "Browser : Naver, Topic : face, 이미지 수 : 10개\n",
      "====================================================================================================\n",
      "[[0, ['https://encrypted-tbn0.gstatic.com/images?q=tbn:ANd9GcRwJHctQlc2yloyiyzUBqybe24GZ3hO1WGInQ&s', 'https://encrypted-tbn0.gstatic.com/images?q=tbn:ANd9GcSBbp4CmDHa5LBq8Rnh5fuzseZWq5jfEQ1whA&s', 'https://encrypted-tbn0.gstatic.com/images?q=tbn:ANd9GcQE1KYl7tdg4Vf1VZ6uVq-37hDPrHeo6DwcvA&s', 'https://encrypted-tbn0.gstatic.com/images?q=tbn:ANd9GcTo65Y9xz1eBsSPHF-lYbVv1XzlfIm_5ecWbA&s', 'https://st2.depositphotos.com/1743476/7762/i/450/depositphotos_77620065-stock-photo-female-hand-holding-something.jpg', 'https://i0.wp.com/knowledge.carolina.com/wp-content/uploads/2022/07/volunteer-422598_1920.jpg?fit=1920%2C1280&ssl=1', 'https://upload.wikimedia.org/wikipedia/commons/thumb/9/9d/Palm%2C_fingers.jpg/150px-Palm%2C_fingers.jpg', 'https://img.freepik.com/free-psd/sensitive-hands-isolated_23-2151337967.jpg', 'https://cdn.prod.website-files.com/622488277ab5ee818d179d9f/6633f6342da73c6b12fc0fea_638785c53483c55af410ac71_handmodel.webp', 'https://encrypted-tbn0.gstatic.com/images?q=tbn:ANd9GcTeFMzZ4aDiFUU7DCGMAynlL6X5yggXItvAGw&s']], [1, ['https://encrypted-tbn0.gstatic.com/images?q=tbn:ANd9GcRZ-5L73wi6bcWE5ptCqaJRHRBVs-3pNOjR_Q&s', 'https://encrypted-tbn0.gstatic.com/images?q=tbn:ANd9GcQBqbdg2lrWsTvKvLygwLYXlqevbTCWkfJtIg&s', 'https://encrypted-tbn0.gstatic.com/images?q=tbn:ANd9GcTcNKJupk03Ek8GZQSdutkkagd7mL-z7MLjpQ&s', 'https://encrypted-tbn0.gstatic.com/images?q=tbn:ANd9GcQmPPQ8KjiwLbmuwOYFhZb_gVQuCqcYwM1WUw&s', 'https://encrypted-tbn0.gstatic.com/images?q=tbn:ANd9GcRnAU6-N7yHL1NdV7rM35GHS68z3fKIZ21AEQ&s', 'https://encrypted-tbn0.gstatic.com/images?q=tbn:ANd9GcQ8kBWrRuEYNYwMbw7wLrBvXIicNXOm0hLMZg&s', 'https://encrypted-tbn0.gstatic.com/images?q=tbn:ANd9GcRFYzU68odQ_irAE_cnUbWxmNnKr5mu_YgadA&s', 'https://images.squarespace-cdn.com/content/v1/64bfd6aa127fba0754a78d65/46bc0958-af60-4bae-932a-dd1d0b237a31/beautiful-headshot.jpg', 'https://as2.ftcdn.net/v2/jpg/02/18/93/97/1000_F_218939757_YqHgeD3BAANU87y2Kc10Y40HNVgDv5rK.jpg', 'https://encrypted-tbn0.gstatic.com/images?q=tbn:ANd9GcQyoUj1rNtgf5FW4U9c661MXLN44Ivm_Bv3rA&s']], [0, ['https://search.pstatic.net/sunny/?src=http%3A%2F%2Fimagescdn.gettyimagesbank.com%2F500%2F08%2F622%2F984%2F0%2F90150208.jpg&type=sc960_832', 'https://search.pstatic.net/sunny/?src=https%3A%2F%2Fi.pinimg.com%2F736x%2Fc5%2F0a%2F7d%2Fc50a7dbb9993eb4af846b6708d430805.jpg&type=sc960_832', 'https://search.pstatic.net/sunny/?src=https%3A%2F%2Fi.pinimg.com%2F474x%2Fbe%2Fa7%2F73%2Fbea7732c4b2845db8d96c34b00b8a80e.jpg&type=sc960_832', 'https://search.pstatic.net/common/?src=http%3A%2F%2Fblogfiles.naver.net%2FMjAyMjA2MjRfNzUg%2FMDAxNjU2MDM2ODk3NTI3.3IQ_EWrYIbd6VHruiHMp5x1ejX2fwVasSZS299HK5hEg.RHXOu2GVNwce2yt2ivJOZ3lBnaBJfppfzo_RxoACYSIg.JPEG.cmpt2002%2Fus-17_3.jpg&type=sc960_832', 'https://search.pstatic.net/sunny/?src=https%3A%2F%2Ftint.creativemarket.com%2F-Whhn2sUVcpQIPjm4noRRB0E8gE01n7JCrikT0KWgLw%2Fwidth%3A1820%2Fheight%3A1213%2Fgravity%3Ace%2Frt%3Afill-down%2Fel%3A1%2FczM6Ly9maWxlcy5jcmVhdGl2ZW1hcmtldC5jb20vaW1hZ2VzL3NjcmVlbnNob3RzL3Byb2R1Y3RzLzUyMS81MjExLzUyMTEyNzEvcG90ZWw2cnFxYXJtOXYyN252bXBhcDFtb3FzZHF3cHN1bm41MzhmMGNxa3RkZzJtanlvc2V3aXJhMWxheGEwYy1vLmpwZw%3F1709783009&type=sc960_832', 'https://search.pstatic.net/sunny/?src=https%3A%2F%2Fi.pinimg.com%2Foriginals%2Fc2%2F72%2F6f%2Fc2726f1f33ddca9ecca7d5cadf154f2b.jpg&type=sc960_832', 'https://search.pstatic.net/sunny/?src=https%3A%2F%2Fmedia.gettyimages.com%2Fid%2F73448809%2Fphoto%2Fclose-up-studio-shot-of-man-holding-penny.jpg%3Fs%3D612x612%26w%3D0%26k%3D20%26c%3DU1JjPd9WUV9ZyVUGdQqTU46TAkY3far2VBS414nw5fk%3D&type=sc960_832', 'https://search.pstatic.net/sunny/?src=https%3A%2F%2Fmedia.gettyimages.com%2Fid%2F78034006%2Fphoto%2Fhand-making-three-sign.jpg%3Fs%3D612x612%26w%3D0%26k%3D20%26c%3D9i5KD3CMjEDh6uvihooVcW5eGnJzHK7nEsWUrpKzd9w%3D&type=sc960_832', 'https://search.pstatic.net/sunny/?src=https%3A%2F%2Fmedia.gettyimages.com%2Fphotos%2Fcropped-hand-gesturing-number-5-against-white-background-picture-id1053748716%3Fk%3D6%26m%3D1053748716%26s%3D612x612%26w%3D0%26h%3DmxuTx38KL-hIKi3956d9Z5lC-jJdp4OAzpEYdu8Ux6s%3D&type=sc960_832', 'https://search.pstatic.net/sunny/?src=http%3A%2F%2Fimagescdn.gettyimagesbank.com%2F500%2F08%2F040%2F440%2F0%2F97652447.jpg&type=sc960_832']], [1, ['https://search.pstatic.net/sunny/?src=https%3A%2F%2Fi.pinimg.com%2F736x%2Ff9%2F0c%2Fd1%2Ff90cd18452f0d08df4708a760d7d8f57.jpg&type=sc960_832', 'https://search.pstatic.net/sunny/?src=https%3A%2F%2Fi.pinimg.com%2F736x%2F07%2Fbc%2Fb6%2F07bcb6aeea7b07edf9152e723b6c50f7.jpg&type=sc960_832', 'https://search.pstatic.net/sunny/?src=https%3A%2F%2Fi.pinimg.com%2F736x%2Fc1%2F6b%2Fc9%2Fc16bc914e029e067cfb63548a1d3e85b.jpg&type=sc960_832', 'https://search.pstatic.net/sunny/?src=https%3A%2F%2Fi.pinimg.com%2Foriginals%2F04%2F9d%2F87%2F049d873632b81f13bcb28090bb611ce0.jpg&type=sc960_832', 'https://search.pstatic.net/sunny/?src=https%3A%2F%2Fi.pinimg.com%2Foriginals%2F6f%2F89%2Fb0%2F6f89b00e9878ff1d9b66dd72e7e1986e.jpg&type=sc960_832', 'https://search.pstatic.net/sunny/?src=http%3A%2F%2Fmedia.istockphoto.com%2Fvectors%2Fyoung-girl-face-vector-id528478270&type=sc960_832', 'https://search.pstatic.net/sunny/?src=https%3A%2F%2Fi.pinimg.com%2F736x%2Fa6%2F37%2F15%2Fa63715e6bfb09d3126a39266d5966dcb.jpg&type=sc960_832', 'https://search.pstatic.net/sunny/?src=https%3A%2F%2Fi.pinimg.com%2F736x%2Ffa%2F06%2F8a%2Ffa068a003e28a37580a595f0a579ae74.jpg&type=sc960_832', 'https://search.pstatic.net/sunny/?src=https%3A%2F%2Fi.pinimg.com%2Foriginals%2F69%2F3d%2Fd7%2F693dd794eba810404bb1602959be5c6e.jpg&type=sc960_832', 'https://search.pstatic.net/sunny/?src=https%3A%2F%2Fi.pinimg.com%2Foriginals%2F2f%2F54%2F1a%2F2f541a27ebb96dcdb7349096feb7461a.jpg&type=sc960_832']]]\n"
     ]
    }
   ],
   "source": [
    "def execute_crawling() :\n",
    "    img_data = []\n",
    "    limit = 10\n",
    "    \n",
    "    for browser in browser_keys :\n",
    "        \n",
    "        if browser == 'google' :\n",
    "            print()\n",
    "            \n",
    "        elif browser == 'naver' :\n",
    "            print()\n",
    "            \n",
    "        for idx, topic in enumerate(topics) :\n",
    "            links = collect_links().img_links(browser = browser, topic = topic, limit = limit)\n",
    "            img_data.append([idx, links])\n",
    "\n",
    "    return img_data\n",
    "    \n",
    "img_data = execute_crawling()\n",
    "print(img_data)"
   ]
  },
  {
   "cell_type": "code",
   "execution_count": 6,
   "id": "aca4fcb6",
   "metadata": {},
   "outputs": [
    {
     "name": "stdout",
     "output_type": "stream",
     "text": [
      "[[0, ['https://encrypted-tbn0.gstatic.com/images?q=tbn:ANd9GcRwJHctQlc2yloyiyzUBqybe24GZ3hO1WGInQ&s', 'https://encrypted-tbn0.gstatic.com/images?q=tbn:ANd9GcSBbp4CmDHa5LBq8Rnh5fuzseZWq5jfEQ1whA&s', 'https://encrypted-tbn0.gstatic.com/images?q=tbn:ANd9GcQE1KYl7tdg4Vf1VZ6uVq-37hDPrHeo6DwcvA&s', 'https://encrypted-tbn0.gstatic.com/images?q=tbn:ANd9GcTo65Y9xz1eBsSPHF-lYbVv1XzlfIm_5ecWbA&s', 'https://st2.depositphotos.com/1743476/7762/i/450/depositphotos_77620065-stock-photo-female-hand-holding-something.jpg', 'https://i0.wp.com/knowledge.carolina.com/wp-content/uploads/2022/07/volunteer-422598_1920.jpg?fit=1920%2C1280&ssl=1', 'https://upload.wikimedia.org/wikipedia/commons/thumb/9/9d/Palm%2C_fingers.jpg/150px-Palm%2C_fingers.jpg', 'https://img.freepik.com/free-psd/sensitive-hands-isolated_23-2151337967.jpg', 'https://cdn.prod.website-files.com/622488277ab5ee818d179d9f/6633f6342da73c6b12fc0fea_638785c53483c55af410ac71_handmodel.webp', 'https://encrypted-tbn0.gstatic.com/images?q=tbn:ANd9GcTeFMzZ4aDiFUU7DCGMAynlL6X5yggXItvAGw&s']], [1, ['https://encrypted-tbn0.gstatic.com/images?q=tbn:ANd9GcRZ-5L73wi6bcWE5ptCqaJRHRBVs-3pNOjR_Q&s', 'https://encrypted-tbn0.gstatic.com/images?q=tbn:ANd9GcQBqbdg2lrWsTvKvLygwLYXlqevbTCWkfJtIg&s', 'https://encrypted-tbn0.gstatic.com/images?q=tbn:ANd9GcTcNKJupk03Ek8GZQSdutkkagd7mL-z7MLjpQ&s', 'https://encrypted-tbn0.gstatic.com/images?q=tbn:ANd9GcQmPPQ8KjiwLbmuwOYFhZb_gVQuCqcYwM1WUw&s', 'https://encrypted-tbn0.gstatic.com/images?q=tbn:ANd9GcRnAU6-N7yHL1NdV7rM35GHS68z3fKIZ21AEQ&s', 'https://encrypted-tbn0.gstatic.com/images?q=tbn:ANd9GcQ8kBWrRuEYNYwMbw7wLrBvXIicNXOm0hLMZg&s', 'https://encrypted-tbn0.gstatic.com/images?q=tbn:ANd9GcRFYzU68odQ_irAE_cnUbWxmNnKr5mu_YgadA&s', 'https://images.squarespace-cdn.com/content/v1/64bfd6aa127fba0754a78d65/46bc0958-af60-4bae-932a-dd1d0b237a31/beautiful-headshot.jpg', 'https://as2.ftcdn.net/v2/jpg/02/18/93/97/1000_F_218939757_YqHgeD3BAANU87y2Kc10Y40HNVgDv5rK.jpg', 'https://encrypted-tbn0.gstatic.com/images?q=tbn:ANd9GcQyoUj1rNtgf5FW4U9c661MXLN44Ivm_Bv3rA&s']], [0, ['https://search.pstatic.net/sunny/?src=http%3A%2F%2Fimagescdn.gettyimagesbank.com%2F500%2F08%2F622%2F984%2F0%2F90150208.jpg&type=sc960_832', 'https://search.pstatic.net/sunny/?src=https%3A%2F%2Fi.pinimg.com%2F736x%2Fc5%2F0a%2F7d%2Fc50a7dbb9993eb4af846b6708d430805.jpg&type=sc960_832', 'https://search.pstatic.net/sunny/?src=https%3A%2F%2Fi.pinimg.com%2F474x%2Fbe%2Fa7%2F73%2Fbea7732c4b2845db8d96c34b00b8a80e.jpg&type=sc960_832', 'https://search.pstatic.net/common/?src=http%3A%2F%2Fblogfiles.naver.net%2FMjAyMjA2MjRfNzUg%2FMDAxNjU2MDM2ODk3NTI3.3IQ_EWrYIbd6VHruiHMp5x1ejX2fwVasSZS299HK5hEg.RHXOu2GVNwce2yt2ivJOZ3lBnaBJfppfzo_RxoACYSIg.JPEG.cmpt2002%2Fus-17_3.jpg&type=sc960_832', 'https://search.pstatic.net/sunny/?src=https%3A%2F%2Ftint.creativemarket.com%2F-Whhn2sUVcpQIPjm4noRRB0E8gE01n7JCrikT0KWgLw%2Fwidth%3A1820%2Fheight%3A1213%2Fgravity%3Ace%2Frt%3Afill-down%2Fel%3A1%2FczM6Ly9maWxlcy5jcmVhdGl2ZW1hcmtldC5jb20vaW1hZ2VzL3NjcmVlbnNob3RzL3Byb2R1Y3RzLzUyMS81MjExLzUyMTEyNzEvcG90ZWw2cnFxYXJtOXYyN252bXBhcDFtb3FzZHF3cHN1bm41MzhmMGNxa3RkZzJtanlvc2V3aXJhMWxheGEwYy1vLmpwZw%3F1709783009&type=sc960_832', 'https://search.pstatic.net/sunny/?src=https%3A%2F%2Fi.pinimg.com%2Foriginals%2Fc2%2F72%2F6f%2Fc2726f1f33ddca9ecca7d5cadf154f2b.jpg&type=sc960_832', 'https://search.pstatic.net/sunny/?src=https%3A%2F%2Fmedia.gettyimages.com%2Fid%2F73448809%2Fphoto%2Fclose-up-studio-shot-of-man-holding-penny.jpg%3Fs%3D612x612%26w%3D0%26k%3D20%26c%3DU1JjPd9WUV9ZyVUGdQqTU46TAkY3far2VBS414nw5fk%3D&type=sc960_832', 'https://search.pstatic.net/sunny/?src=https%3A%2F%2Fmedia.gettyimages.com%2Fid%2F78034006%2Fphoto%2Fhand-making-three-sign.jpg%3Fs%3D612x612%26w%3D0%26k%3D20%26c%3D9i5KD3CMjEDh6uvihooVcW5eGnJzHK7nEsWUrpKzd9w%3D&type=sc960_832', 'https://search.pstatic.net/sunny/?src=https%3A%2F%2Fmedia.gettyimages.com%2Fphotos%2Fcropped-hand-gesturing-number-5-against-white-background-picture-id1053748716%3Fk%3D6%26m%3D1053748716%26s%3D612x612%26w%3D0%26h%3DmxuTx38KL-hIKi3956d9Z5lC-jJdp4OAzpEYdu8Ux6s%3D&type=sc960_832', 'https://search.pstatic.net/sunny/?src=http%3A%2F%2Fimagescdn.gettyimagesbank.com%2F500%2F08%2F040%2F440%2F0%2F97652447.jpg&type=sc960_832']], [1, ['https://search.pstatic.net/sunny/?src=https%3A%2F%2Fi.pinimg.com%2F736x%2Ff9%2F0c%2Fd1%2Ff90cd18452f0d08df4708a760d7d8f57.jpg&type=sc960_832', 'https://search.pstatic.net/sunny/?src=https%3A%2F%2Fi.pinimg.com%2F736x%2F07%2Fbc%2Fb6%2F07bcb6aeea7b07edf9152e723b6c50f7.jpg&type=sc960_832', 'https://search.pstatic.net/sunny/?src=https%3A%2F%2Fi.pinimg.com%2F736x%2Fc1%2F6b%2Fc9%2Fc16bc914e029e067cfb63548a1d3e85b.jpg&type=sc960_832', 'https://search.pstatic.net/sunny/?src=https%3A%2F%2Fi.pinimg.com%2Foriginals%2F04%2F9d%2F87%2F049d873632b81f13bcb28090bb611ce0.jpg&type=sc960_832', 'https://search.pstatic.net/sunny/?src=https%3A%2F%2Fi.pinimg.com%2Foriginals%2F6f%2F89%2Fb0%2F6f89b00e9878ff1d9b66dd72e7e1986e.jpg&type=sc960_832', 'https://search.pstatic.net/sunny/?src=http%3A%2F%2Fmedia.istockphoto.com%2Fvectors%2Fyoung-girl-face-vector-id528478270&type=sc960_832', 'https://search.pstatic.net/sunny/?src=https%3A%2F%2Fi.pinimg.com%2F736x%2Fa6%2F37%2F15%2Fa63715e6bfb09d3126a39266d5966dcb.jpg&type=sc960_832', 'https://search.pstatic.net/sunny/?src=https%3A%2F%2Fi.pinimg.com%2F736x%2Ffa%2F06%2F8a%2Ffa068a003e28a37580a595f0a579ae74.jpg&type=sc960_832', 'https://search.pstatic.net/sunny/?src=https%3A%2F%2Fi.pinimg.com%2Foriginals%2F69%2F3d%2Fd7%2F693dd794eba810404bb1602959be5c6e.jpg&type=sc960_832', 'https://search.pstatic.net/sunny/?src=https%3A%2F%2Fi.pinimg.com%2Foriginals%2F2f%2F54%2F1a%2F2f541a27ebb96dcdb7349096feb7461a.jpg&type=sc960_832']]]\n"
     ]
    }
   ],
   "source": [
    "print(img_data)"
   ]
  },
  {
   "cell_type": "code",
   "execution_count": 5,
   "id": "751d58fc",
   "metadata": {},
   "outputs": [
    {
     "name": "stdout",
     "output_type": "stream",
     "text": [
      "사용 할 수 있는 브라우저 ['google', 'naver']\n",
      "----------------------------------------------------------------------------------------------------\n",
      "False\n"
     ]
    }
   ],
   "source": [
    "collect_links = CollectLinks\n",
    "browser_data, keys = collect_links.read_json_browser()\n",
    "\n",
    "print(['google', 'naver'] in keys)"
   ]
  },
  {
   "cell_type": "code",
   "execution_count": 7,
   "id": "24954450",
   "metadata": {},
   "outputs": [
    {
     "name": "stderr",
     "output_type": "stream",
     "text": [
      "WARNING:urllib3.connectionpool:Retrying (Retry(total=2, connect=None, read=None, redirect=None, status=None)) after connection broken by 'NewConnectionError('<urllib3.connection.HTTPConnection object at 0x0000028F06AB12E0>: Failed to establish a new connection: [WinError 10061] 대상 컴퓨터에서 연결을 거부했으므로 연결하지 못했습니다')': /session/a5f031b32df89f4993cc496a72adb0dc\n",
      "WARNING:urllib3.connectionpool:Retrying (Retry(total=1, connect=None, read=None, redirect=None, status=None)) after connection broken by 'NewConnectionError('<urllib3.connection.HTTPConnection object at 0x0000028F07E9C4F0>: Failed to establish a new connection: [WinError 10061] 대상 컴퓨터에서 연결을 거부했으므로 연결하지 못했습니다')': /session/a5f031b32df89f4993cc496a72adb0dc\n",
      "WARNING:urllib3.connectionpool:Retrying (Retry(total=0, connect=None, read=None, redirect=None, status=None)) after connection broken by 'NewConnectionError('<urllib3.connection.HTTPConnection object at 0x0000028F07BFB490>: Failed to establish a new connection: [WinError 10061] 대상 컴퓨터에서 연결을 거부했으므로 연결하지 못했습니다')': /session/a5f031b32df89f4993cc496a72adb0dc\n"
     ]
    }
   ],
   "source": [
    "collect_links.driver.quit()"
   ]
  }
 ],
 "metadata": {
  "kernelspec": {
   "display_name": "Project_python3.9",
   "language": "python",
   "name": "project"
  },
  "language_info": {
   "codemirror_mode": {
    "name": "ipython",
    "version": 3
   },
   "file_extension": ".py",
   "mimetype": "text/x-python",
   "name": "python",
   "nbconvert_exporter": "python",
   "pygments_lexer": "ipython3",
   "version": "3.9.20"
  }
 },
 "nbformat": 4,
 "nbformat_minor": 5
}
