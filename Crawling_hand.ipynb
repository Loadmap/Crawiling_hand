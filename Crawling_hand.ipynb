{
 "cells": [
  {
   "cell_type": "code",
   "execution_count": 31,
   "id": "8a73f53e-43b7-4bdf-a3f6-beace3d8c0bb",
   "metadata": {},
   "outputs": [],
   "source": [
    "import os\n",
    "import json\n",
    "import chromedriver_autoinstaller\n",
    "import selenium\n",
    "import time\n",
    "from selenium import webdriver\n",
    "from selenium.webdriver.chrome.service import Service\n",
    "from selenium.webdriver.common.by import By\n",
    "from selenium.webdriver.common.keys import Keys\n",
    "from selenium.webdriver.support.ui import WebDriverWait\n",
    "from selenium.webdriver.support import expected_conditions as EC\n",
    "from selenium.webdriver.chrome.options import Options\n",
    "from webdriver_manager.chrome import ChromeDriverManager"
   ]
  },
  {
   "cell_type": "code",
   "execution_count": 122,
   "id": "9b4506c8-bd2d-42c6-8157-78eca9d24dd6",
   "metadata": {},
   "outputs": [
    {
     "name": "stdout",
     "output_type": "stream",
     "text": [
      "현재 Chrome 브라우저 버전: 130.0.6723.59\n",
      "현재 ChromeDriver 버전: 130.0.6723.58\n"
     ]
    }
   ],
   "source": [
    "# 드라이버\n",
    "\n",
    "gui = False\n",
    "\n",
    "# Chrome 웹드라이버 설정\n",
    "chrome_options = webdriver.ChromeOptions()\n",
    "chrome_options.add_argument('--no-sandbox')  # To maintain user cookies\n",
    "chrome_options.add_argument('--disable-dev-shm-usage')\n",
    "\n",
    "if gui :\n",
    "    chrome_options.add_argument('--headless')  # Headless 모드 (GUI 없이 실행)\n",
    "\n",
    "chromedriver_path = Service(chromedriver_autoinstaller.install())\n",
    "driver = webdriver.Chrome(service = chromedriver_path, options = chrome_options)\n",
    "\n",
    "# Chrome 브라우저의 버전 정보 가져오기\n",
    "browser_version = driver.capabilities['browserVersion']\n",
    "chromedriver_version = driver.capabilities['chrome']['chromedriverVersion'].split(' ')[0]\n",
    "\n",
    "# 버전 출력\n",
    "print(f'현재 Chrome 브라우저 버전: {browser_version}')\n",
    "print(f'현재 ChromeDriver 버전: {chromedriver_version}')\n",
    "\n",
    "if browser_version.split('.')[0] != chromedriver_version.split('.')[0] :\n",
    "    print('버전이 다릅니다.')"
   ]
  },
  {
   "cell_type": "code",
   "execution_count": 123,
   "id": "aec38d61",
   "metadata": {},
   "outputs": [],
   "source": [
    "# topic 입력받을 txt 파일 \n",
    "\n",
    "google = True\n",
    "naver = True\n",
    "\n",
    "file_name = 'topic.txt'\n",
    "topics = 'hand, face'\n",
    "\n",
    "# def find_lines_save_words(file_name, key_line, key_word)\n",
    "\n",
    "with open(file_name, 'w') as f :\n",
    "    current_dir = os.getcwd()\n",
    "    file_path = current_dir.replace('\\\\', '/')\n",
    "\n",
    "    for num_topic in range(len(topics.split(','))) :\n",
    "        f.write(topics.split(',')[num_topic])"
   ]
  },
  {
   "cell_type": "code",
   "execution_count": 124,
   "id": "1b88cf9a",
   "metadata": {},
   "outputs": [
    {
     "name": "stdout",
     "output_type": "stream",
     "text": [
      "hand face\n"
     ]
    }
   ],
   "source": [
    "# txt 파일 확인\n",
    "\n",
    "try :\n",
    "    \n",
    "    with open(file_name, 'r', encoding = 'utf-8') as f :\n",
    "        read_data = f.read()\n",
    "        print(read_data)\n",
    "    \n",
    "except FileNotFoundError :\n",
    "    print(f'{file_path}에 해당 파일을 찾을 수 없습니다.')\n",
    "    \n",
    "except Exception as e :\n",
    "    print(f'오류 발생 : {e}')"
   ]
  },
  {
   "cell_type": "code",
   "execution_count": 103,
   "id": "13ad68cd",
   "metadata": {},
   "outputs": [],
   "source": [
    "# 구글 \n",
    "\n",
    "if google :\n",
    "    driver.get(f'https://www.google.com/search?q={read_data.split(\" \")[0]}&tbm=isch')"
   ]
  },
  {
   "cell_type": "code",
   "execution_count": null,
   "id": "96a23c33",
   "metadata": {},
   "outputs": [],
   "source": [
    "# 네이버\n",
    "\n",
    "if naver :\n",
    "    driver.get(f'https://search.naver.com/search.naver?&where=image&query={request_data[\"select_topic\"]}')"
   ]
  },
  {
   "cell_type": "code",
   "execution_count": 120,
   "id": "44c40acd",
   "metadata": {},
   "outputs": [],
   "source": [
    "# topic_select = \n",
    "\n",
    "def get_scroll() :\n",
    "    pos = driver.execute_script(\"return window.pageYOffset;\")\n",
    "    \n",
    "    return pos\n",
    "\n",
    "def scroll_down() :\n",
    "    last_pos = 0\n",
    "    pause_cnt = 0\n",
    "    max_pause_cnt = 20\n",
    "    \n",
    "    while True :\n",
    "        driver.execute_script(\"window.scrollBy({top : window.innerHeight * 2, behavior : 'smooth'})\")\n",
    "        time.sleep(0.5)\n",
    "        \n",
    "        new_pos = get_scroll()\n",
    "        current_pos = driver.execute_script('return document.body.scrollHeight')\n",
    "        \n",
    "        if last_pos == new_pos :\n",
    "            pause_cnt += 1\n",
    "            \n",
    "        else :\n",
    "            pause_cnt = 0\n",
    "            last_pos = new_pos    \n",
    "        \n",
    "        if pause_cnt >= max_pause_cnt :\n",
    "            break\n",
    "        \n",
    "        \n",
    "# scroll_down()"
   ]
  },
  {
   "cell_type": "code",
   "execution_count": 125,
   "id": "065cc2c9",
   "metadata": {},
   "outputs": [
    {
     "name": "stdout",
     "output_type": "stream",
     "text": [
      "416 data:image/jpeg;base64,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\n"
     ]
    }
   ],
   "source": [
    "# img src 링크\n",
    "\n",
    "topic = read_data.split(\" \")[0]\n",
    "\n",
    "def goole_img_link(topic, option = '') :\n",
    "    \n",
    "    if google :\n",
    "        driver.get(f'https://www.google.com/search?q={topic}&tbm=isch{option}')\n",
    "    \n",
    "    scroll_down()\n",
    "    \n",
    "    img_xpath = '//div[@jsname=\"dTDiAc\"]/div[@jsname=\"qQjpJ\"]//img'\n",
    "    imgs = driver.find_elements(By.XPATH, img_xpath)\n",
    "\n",
    "    links = []\n",
    "\n",
    "    for idx, src in enumerate(imgs) :\n",
    "\n",
    "        try :\n",
    "            src = src.get_attribute('src')\n",
    "            links.append(src)\n",
    "\n",
    "        except Exception as e :\n",
    "            print(f'에러발생 {e}')\n",
    "            \n",
    "    return links\n",
    "\n",
    "goole_img_link(topic)\n",
    "        \n",
    "print(len(links), links[0])"
   ]
  },
  {
   "cell_type": "code",
   "execution_count": 126,
   "id": "04a81cbe-d2e3-40df-8e93-f206afd897c5",
   "metadata": {},
   "outputs": [],
   "source": [
    "driver.quit()"
   ]
  }
 ],
 "metadata": {
  "kernelspec": {
   "display_name": "Project_python3.9",
   "language": "python",
   "name": "project"
  },
  "language_info": {
   "codemirror_mode": {
    "name": "ipython",
    "version": 3
   },
   "file_extension": ".py",
   "mimetype": "text/x-python",
   "name": "python",
   "nbconvert_exporter": "python",
   "pygments_lexer": "ipython3",
   "version": "3.9.20"
  }
 },
 "nbformat": 4,
 "nbformat_minor": 5
}
