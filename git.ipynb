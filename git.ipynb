{
 "cells": [
  {
   "cell_type": "code",
   "execution_count": 26,
   "id": "24d618f1",
   "metadata": {},
   "outputs": [
    {
     "name": "stdout",
     "output_type": "stream",
     "text": [
      "Reinitialized existing Git repository in D:/Project/Crawling_hand/.git/\n"
     ]
    }
   ],
   "source": [
    "!git init"
   ]
  },
  {
   "cell_type": "code",
   "execution_count": 28,
   "id": "879d6ae0",
   "metadata": {},
   "outputs": [
    {
     "name": "stdout",
     "output_type": "stream",
     "text": [
      "On branch master\n",
      "\n",
      "No commits yet\n",
      "\n",
      "Changes to be committed:\n",
      "  (use \"git rm --cached <file>...\" to unstage)\n",
      "\tnew file:   .gitignore\n",
      "\tnew file:   .ipynb_checkpoints/Crawling_hand-checkpoint.ipynb\n",
      "\tnew file:   .ipynb_checkpoints/git-checkpoint.ipynb\n",
      "\tnew file:   Crawling_hand.ipynb\n",
      "\tnew file:   git.ipynb\n",
      "\tnew file:   topic.txt\n",
      "\n",
      "Changes not staged for commit:\n",
      "  (use \"git add <file>...\" to update what will be committed)\n",
      "  (use \"git restore <file>...\" to discard changes in working directory)\n",
      "\tmodified:   .ipynb_checkpoints/Crawling_hand-checkpoint.ipynb\n",
      "\tmodified:   git.ipynb\n",
      "\n"
     ]
    }
   ],
   "source": [
    "!git status"
   ]
  },
  {
   "cell_type": "code",
   "execution_count": 29,
   "id": "96b8d871",
   "metadata": {},
   "outputs": [
    {
     "name": "stdout",
     "output_type": "stream",
     "text": [
      "[WinError 2] 지정된 파일을 찾을 수 없습니다: 'add .'\n",
      "D:\\Project\\Crawling_hand\n"
     ]
    }
   ],
   "source": [
    "%cd \"D:/Project/Crawling_hand\""
   ]
  },
  {
   "cell_type": "code",
   "execution_count": 30,
   "id": "a47a0862",
   "metadata": {},
   "outputs": [
    {
     "name": "stderr",
     "output_type": "stream",
     "text": [
      "warning: in the working copy of '.ipynb_checkpoints/Crawling_hand-checkpoint.ipynb', LF will be replaced by CRLF the next time Git touches it\n",
      "warning: in the working copy of 'git.ipynb', LF will be replaced by CRLF the next time Git touches it\n"
     ]
    }
   ],
   "source": [
    "!git add ."
   ]
  },
  {
   "cell_type": "code",
   "execution_count": 31,
   "id": "b6d0a10c",
   "metadata": {},
   "outputs": [
    {
     "name": "stderr",
     "output_type": "stream",
     "text": [
      "error: pathspec '紐⑤뱺' did not match any file(s) known to git\n",
      "error: pathspec '�뙆�씪' did not match any file(s) known to git\n",
      "error: pathspec '而ㅻ컠'' did not match any file(s) known to git\n"
     ]
    }
   ],
   "source": [
    "!git commit -m '변경된 모든 파일 커밋'"
   ]
  },
  {
   "cell_type": "code",
   "execution_count": 19,
   "id": "ad465202",
   "metadata": {},
   "outputs": [
    {
     "name": "stderr",
     "output_type": "stream",
     "text": [
      "fatal: your current branch 'master' does not have any commits yet\n"
     ]
    }
   ],
   "source": [
    "!git log"
   ]
  },
  {
   "cell_type": "code",
   "execution_count": 20,
   "id": "d6fae2d7",
   "metadata": {},
   "outputs": [],
   "source": [
    "!git remote add origin https://github.com/Loadmap/Crawiling_hand.git"
   ]
  },
  {
   "cell_type": "code",
   "execution_count": 23,
   "id": "7cef4ab6",
   "metadata": {},
   "outputs": [
    {
     "name": "stdout",
     "output_type": "stream",
     "text": [
      "origin\thttps://github.com/Loadmap/Crawiling_hand.git (fetch)\n",
      "origin\thttps://github.com/Loadmap/Crawiling_hand.git (push)\n"
     ]
    }
   ],
   "source": [
    "!git remote -v"
   ]
  },
  {
   "cell_type": "code",
   "execution_count": 24,
   "id": "3fa33de7",
   "metadata": {},
   "outputs": [
    {
     "name": "stderr",
     "output_type": "stream",
     "text": [
      "error: src refspec master does not match any\n",
      "error: failed to push some refs to 'https://github.com/Loadmap/Crawiling_hand.git'\n"
     ]
    }
   ],
   "source": [
    "!git push -u origin master"
   ]
  }
 ],
 "metadata": {
  "kernelspec": {
   "display_name": "Project_python3.9",
   "language": "python",
   "name": "project"
  },
  "language_info": {
   "codemirror_mode": {
    "name": "ipython",
    "version": 3
   },
   "file_extension": ".py",
   "mimetype": "text/x-python",
   "name": "python",
   "nbconvert_exporter": "python",
   "pygments_lexer": "ipython3",
   "version": "3.9.20"
  }
 },
 "nbformat": 4,
 "nbformat_minor": 5
}
